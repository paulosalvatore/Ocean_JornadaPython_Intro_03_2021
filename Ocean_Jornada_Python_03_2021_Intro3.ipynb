{
  "nbformat": 4,
  "nbformat_minor": 0,
  "metadata": {
    "colab": {
      "name": "Ocean_Jornada_Python_03_2021_Intro3.ipynb",
      "provenance": [],
      "collapsed_sections": [],
      "authorship_tag": "ABX9TyMQJxoPzE+aY2VSn8y9B4bR",
      "include_colab_link": true
    },
    "kernelspec": {
      "name": "python3",
      "display_name": "Python 3"
    }
  },
  "cells": [
    {
      "cell_type": "markdown",
      "metadata": {
        "id": "view-in-github",
        "colab_type": "text"
      },
      "source": [
        "<a href=\"https://colab.research.google.com/github/paulosalvatore/Ocean_JornadaPython_Intro_03_2021/blob/main/Ocean_Jornada_Python_03_2021_Intro3.ipynb\" target=\"_parent\"><img src=\"https://colab.research.google.com/assets/colab-badge.svg\" alt=\"Open In Colab\"/></a>"
      ]
    },
    {
      "cell_type": "code",
      "metadata": {
        "colab": {
          "base_uri": "https://localhost:8080/",
          "height": 105
        },
        "id": "EUPtJhQ3KbN-",
        "outputId": "a31bb4b1-2a2c-433f-d5c6-02a2639f5de2"
      },
      "source": [
        "# Correção do exercício de ontem\r\n",
        "\r\n",
        "\"\"\"\r\n",
        "Exercício 13\r\n",
        "Nome: Convertendo Celsius/Fahrenheit\r\n",
        "Objetivo: Escrever duas funções de conversão, uma de graus celsius em fahrenheit e a outra que faça o contrário.\r\n",
        "Dificuldade: Principiante\r\n",
        "1 - Crie um aplicativo de conversão entre as temperaturas Celsius e Fahrenheit.\r\n",
        "2 - Primeiro o usuário deve escolher se vai entrar com a temperatura em Celsius ou Fahrenheit, depois a conversão escolhida é realizada.\r\n",
        "3 - Se C é a temperatura em Celsius e F em Fahrenheit, as fórmulas de conversão são:\r\n",
        "F = (9 * C / 5) + 32\r\n",
        "C = 5 * (F - 32) / 9\r\n",
        "\"\"\""
      ],
      "execution_count": 1,
      "outputs": [
        {
          "output_type": "execute_result",
          "data": {
            "application/vnd.google.colaboratory.intrinsic+json": {
              "type": "string"
            },
            "text/plain": [
              "'\\nExercício 13\\nNome: Convertendo Celsius/Fahrenheit\\nObjetivo: Escrever duas funções de conversão, uma de graus celsius em fahrenheit e a outra que faça o contrário.\\nDificuldade: Principiante\\n1 - Crie um aplicativo de conversão entre as temperaturas Celsius e Fahrenheit.\\n2 - Primeiro o usuário deve escolher se vai entrar com a temperatura em Celsius ou Fahrenheit, depois a conversão escolhida é realizada.\\n3 - Se C é a temperatura em Celsius e F em Fahrenheit, as fórmulas de conversão são:\\nF = (9 * C / 5) + 32\\nC = 5 * (F - 32) / 9\\n'"
            ]
          },
          "metadata": {
            "tags": []
          },
          "execution_count": 1
        }
      ]
    },
    {
      "cell_type": "code",
      "metadata": {
        "colab": {
          "base_uri": "https://localhost:8080/",
          "height": 0
        },
        "id": "1FEtrqOALdYU",
        "outputId": "69d41c34-149c-4613-88aa-3f49c9d7b3ae"
      },
      "source": [
        "# Declaração\r\n",
        "def teste(celsius, fahrenheit):\r\n",
        "  F = (9 * celsius / 5) + 32\r\n",
        "  print(f\"{celsius}ºC = {F}ºF\")\r\n",
        "\r\n",
        "  C = 5 * (fahrenheit - 32) / 9\r\n",
        "  print(f\"{fahrenheit}ºF = {C}ºC\")\r\n",
        "\r\n",
        "# Execução\r\n",
        "# teste(100, 212)\r\n",
        "\r\n",
        "\r\n",
        "\r\n",
        "# Declaração\r\n",
        "def converter_de_celsius_para_fahrenheit(celsius): # A informação que entrar via argumento será nomeada pelo parâmetro 'celsius'\r\n",
        "  F = (9 * celsius / 5) + 32\r\n",
        "  print(f\"{celsius}ºC = {F}ºF\")\r\n",
        "\r\n",
        "# Execução\r\n",
        "converter_de_celsius_para_fahrenheit(0)\r\n",
        "\r\n",
        "# Declaração\r\n",
        "def converter_de_fahrenheit_para_celsius(fahrenheit): # A informação que entrar via argumento será nomeada pelo parâmetro 'fahrenheit'\r\n",
        "  C = 5 * (fahrenheit - 32) / 9\r\n",
        "  print(f\"{fahrenheit}ºF = {C}ºC\")\r\n",
        "\r\n",
        "# Execução\r\n",
        "converter_de_fahrenheit_para_celsius(32)"
      ],
      "execution_count": 3,
      "outputs": [
        {
          "output_type": "stream",
          "text": [
            "0ºC = 32.0ºF\n",
            "32ºF = 0.0ºC\n"
          ],
          "name": "stdout"
        }
      ]
    },
    {
      "cell_type": "code",
      "metadata": {
        "colab": {
          "base_uri": "https://localhost:8080/",
          "height": 0
        },
        "id": "lrVIk9bePLM_",
        "outputId": "b008337a-78ab-4052-e445-b1c27e1cbd71"
      },
      "source": [
        "# Deixando o usuário escolher o que quer fazer\r\n",
        "\r\n",
        "escolha_usuario = input(\"Você quer converter para qual escala? ('C' para Celsius ou 'F' para Fahrenheit)\\n\")\r\n",
        "\r\n",
        "if escolha_usuario == \"C\":\r\n",
        "  escala = \"F\"\r\n",
        "elif escolha_usuario == \"F\":\r\n",
        "  escala = \"C\"\r\n",
        "\r\n",
        "temperatura = float(input(f\"Digite o valor da temperatura, em º{escala}:\"))\r\n",
        "\r\n",
        "# print(escolha_usuario, type(escolha_usuario))\r\n",
        "# print(temperatura, type(temperatura))\r\n",
        "\r\n",
        "if escolha_usuario == \"C\":\r\n",
        "  # print(\"Usuário escolheu Celsius\")\r\n",
        "  # print(\"Converter usando a temperatura:\", temperatura)\r\n",
        "  converter_de_fahrenheit_para_celsius(temperatura) # Temperatura entra como argumento\r\n",
        "elif escolha_usuario == \"F\":\r\n",
        "  # print(\"Usuário escolheu Fahrenheit\")\r\n",
        "  # print(\"Converter usando a temperatura:\", temperatura)\r\n",
        "  converter_de_celsius_para_fahrenheit(temperatura) # Temperatura entra como argumento"
      ],
      "execution_count": 27,
      "outputs": [
        {
          "output_type": "stream",
          "text": [
            "Você quer converter para qual escala? ('C' para Celsius ou 'F' para Fahrenheit)\n",
            "C\n",
            "Digite o valor da temperatura, em ºF:32\n",
            "32.0ºF = 0.0ºC\n"
          ],
          "name": "stdout"
        }
      ]
    },
    {
      "cell_type": "code",
      "metadata": {
        "colab": {
          "base_uri": "https://localhost:8080/",
          "height": 0
        },
        "id": "68PPu2XzUKzQ",
        "outputId": "ece30a3b-2d17-40f1-abf2-cec7878adff5"
      },
      "source": [
        "def teste(a, b): # Parâmetro, que será o argumento recebido\r\n",
        "  print(\"Teste foi chamado\", a, b)\r\n",
        "\r\n",
        "teste(10, 20) # Argumento, que corresponde ao valor"
      ],
      "execution_count": 38,
      "outputs": [
        {
          "output_type": "stream",
          "text": [
            "Teste foi chamado 10 20\n"
          ],
          "name": "stdout"
        }
      ]
    },
    {
      "cell_type": "code",
      "metadata": {
        "colab": {
          "base_uri": "https://localhost:8080/",
          "height": 0
        },
        "id": "90b8W_iITzAi",
        "outputId": "9eeac167-ce91-427a-a4ef-8521a19222b6"
      },
      "source": [
        "# Funções com retorno\r\n",
        "\r\n",
        "def soma(a, b):\r\n",
        "  # print(f\"{a} + {b} = {a + b}\")\r\n",
        "\r\n",
        "  return a + b\r\n",
        "\r\n",
        "print(5, type(5))\r\n",
        "print(10, type(10))\r\n",
        "print(\"soma(5, 10)\", soma(5, 10), type(soma(5, 10)))\r\n",
        "\r\n",
        "resultado_soma1 = soma(5, 10)\r\n",
        "print(\"resultado_soma1\", resultado_soma1, type(resultado_soma1))\r\n",
        "\r\n",
        "resultado_soma2 = soma(10, 20)\r\n",
        "print(\"resultado_soma2\", resultado_soma2, type(resultado_soma2))\r\n",
        "\r\n",
        "resultado_final = soma(resultado_soma1, resultado_soma2)\r\n",
        "print(\"resultado_final\", resultado_final)"
      ],
      "execution_count": 42,
      "outputs": [
        {
          "output_type": "stream",
          "text": [
            "5 <class 'int'>\n",
            "10 <class 'int'>\n",
            "soma(5, 10) 15 <class 'int'>\n",
            "resultado_soma1 15 <class 'int'>\n",
            "resultado_soma2 30 <class 'int'>\n",
            "resultado_final 45\n"
          ],
          "name": "stdout"
        }
      ]
    },
    {
      "cell_type": "code",
      "metadata": {
        "id": "Np2bsHysXUP1"
      },
      "source": [
        "def calculadora(a, b):\r\n",
        "  return a + b\r\n",
        "\r\n",
        "def monitor(informacao):\r\n",
        "  print(informacao)\r\n",
        "\r\n",
        "def enviar_para_impressora(informacao):\r\n",
        "  print(\"Print Page A4:\", informacao)\r\n",
        "\r\n",
        "def programa():\r\n",
        "  resultado = calculcadora(10, 20)\r\n",
        "  enviar_para_monitor(resultado)\r\n",
        "\r\n",
        "  enviar_para_impressora(resultado)"
      ],
      "execution_count": null,
      "outputs": []
    },
    {
      "cell_type": "code",
      "metadata": {
        "colab": {
          "base_uri": "https://localhost:8080/",
          "height": 0
        },
        "id": "o-1HxFzvWx5p",
        "outputId": "989ac310-8f81-43df-8ee5-8d3a5ce71328"
      },
      "source": [
        "# Lista\r\n",
        "\r\n",
        "#         Valores da lista\r\n",
        "numeros = [5, 9, 10, 20, 40, 80, 120, 300, 500, 900, 1000]\r\n",
        "# Índices [0, 1,  2,  3,  4,  5,   6]\r\n",
        "\r\n",
        "print(numeros, type(numeros))\r\n",
        "\r\n",
        "primeiro_numero = numeros[0]\r\n",
        "print(\"Primeiro número:\", primeiro_numero, type(primeiro_numero))\r\n",
        "\r\n",
        "quantidade_numeros = len(numeros)\r\n",
        "print(\"Quantidade de números:\", quantidade_numeros, type(quantidade_numeros))\r\n",
        "\r\n",
        "ultimo_indice = quantidade_numeros - 1\r\n",
        "ultimo_numero = numeros[ultimo_indice]\r\n",
        "print(\"Último número:\", ultimo_numero, type(ultimo_numero))"
      ],
      "execution_count": 56,
      "outputs": [
        {
          "output_type": "stream",
          "text": [
            "[5, 9, 10, 20, 40, 80, 120, 300, 500, 900, 1000] <class 'list'>\n",
            "Primeiro número: 5 <class 'int'>\n",
            "Quantidade de números: 11 <class 'int'>\n",
            "Último número: 1000 <class 'int'>\n"
          ],
          "name": "stdout"
        }
      ]
    },
    {
      "cell_type": "code",
      "metadata": {
        "colab": {
          "base_uri": "https://localhost:8080/",
          "height": 0
        },
        "id": "5th2__fufNLM",
        "outputId": "69da4b0b-ce0f-4150-e995-05db0566981f"
      },
      "source": [
        "# Abreviando a maneira de pegar o último número\r\n",
        "\r\n",
        "numeros = [5, 9, 10, 20]\r\n",
        "#         [0, 1,  2,  3]\r\n",
        "\r\n",
        "ultimo_numero = numeros[len(numeros) - 1]\r\n",
        "print(\"Último número:\", ultimo_numero)\r\n",
        "\r\n",
        "# Podemos também remover o len() e deixar apenas o '-1' que o Python faz pra gente\r\n",
        "ultimo_numero = numeros[-1]\r\n",
        "print(\"Último número:\", ultimo_numero)"
      ],
      "execution_count": 60,
      "outputs": [
        {
          "output_type": "stream",
          "text": [
            "Último número: 20\n",
            "Último número: 20\n"
          ],
          "name": "stdout"
        }
      ]
    },
    {
      "cell_type": "code",
      "metadata": {
        "colab": {
          "base_uri": "https://localhost:8080/",
          "height": 0
        },
        "id": "vjMa8Q7Rfxbc",
        "outputId": "e3f88982-5c81-4177-daee-4c230a733f0c"
      },
      "source": [
        "# Mudando os valores de uma lista\r\n",
        "\r\n",
        "numeros = [5, 9, 10, 20]\r\n",
        "\r\n",
        "print(\"Primeiro número:\", numeros[0], numeros)\r\n",
        "print(\"Último número:\", numeros[-1], numeros)\r\n",
        "\r\n",
        "numeros[0] = 90\r\n",
        "\r\n",
        "print(\"Primeiro número alterado:\", numeros[0], numeros)\r\n",
        "\r\n",
        "numeros[-1] = 15\r\n",
        "\r\n",
        "print(\"Último número alterado:\", numeros[-1], numeros)"
      ],
      "execution_count": 63,
      "outputs": [
        {
          "output_type": "stream",
          "text": [
            "Primeiro número: 5 [5, 9, 10, 20]\n",
            "Último número: 20 [5, 9, 10, 20]\n",
            "Primeiro número alterado: 90 [90, 9, 10, 20]\n",
            "Último número alterado: 15 [90, 9, 10, 15]\n"
          ],
          "name": "stdout"
        }
      ]
    },
    {
      "cell_type": "code",
      "metadata": {
        "colab": {
          "base_uri": "https://localhost:8080/",
          "height": 0
        },
        "id": "j0uY509cggL4",
        "outputId": "96d0d6a7-dde2-4b29-a886-94b7e8315adb"
      },
      "source": [
        "numeros = [1, 11, 44, 67, 8, 9, 4]\r\n",
        "indice = int(input(\"Digite um índice: \"))\r\n",
        "\r\n",
        "numeros[indice] = 90\r\n",
        "\r\n",
        "print(numeros)"
      ],
      "execution_count": 68,
      "outputs": [
        {
          "output_type": "stream",
          "text": [
            "Digite um índice: 3\n",
            "[1, 11, 44, 90, 8, 9, 4]\n"
          ],
          "name": "stdout"
        }
      ]
    },
    {
      "cell_type": "code",
      "metadata": {
        "colab": {
          "base_uri": "https://localhost:8080/",
          "height": 0
        },
        "id": "1S8JXQ9gg3IQ",
        "outputId": "8bfef178-25ce-4a49-b6ef-ddce0bf40eed"
      },
      "source": [
        "# Listas vazias\r\n",
        "\r\n",
        "lista = []\r\n",
        "\r\n",
        "print(lista, len(lista), type(lista))"
      ],
      "execution_count": 70,
      "outputs": [
        {
          "output_type": "stream",
          "text": [
            "[] 0 <class 'list'>\n"
          ],
          "name": "stdout"
        }
      ]
    },
    {
      "cell_type": "code",
      "metadata": {
        "colab": {
          "base_uri": "https://localhost:8080/",
          "height": 0
        },
        "id": "RLoOqat5g78b",
        "outputId": "9105d2a0-e640-4cf5-eb0e-147c3a0ba135"
      },
      "source": [
        "numeros = [12]\r\n",
        "\r\n",
        "print(numeros, len(numeros), type(numeros))"
      ],
      "execution_count": 71,
      "outputs": [
        {
          "output_type": "stream",
          "text": [
            "[12] 1 <class 'list'>\n"
          ],
          "name": "stdout"
        }
      ]
    },
    {
      "cell_type": "code",
      "metadata": {
        "colab": {
          "base_uri": "https://localhost:8080/",
          "height": 0
        },
        "id": "Gd6DzmflhLAr",
        "outputId": "a10be3db-3d03-42d7-d94d-3896334b3f9a"
      },
      "source": [
        "# Adicionando elementos na lista\r\n",
        "\r\n",
        "numeros = []\r\n",
        "\r\n",
        "print(numeros, len(numeros), type(numeros))\r\n",
        "\r\n",
        "numeros.append(10)\r\n",
        "numeros.append(80)\r\n",
        "numeros.append(7)\r\n",
        "numeros.append(12)\r\n",
        "numeros.append(19)\r\n",
        "numeros.insert(0, 999)\r\n",
        "\r\n",
        "print(numeros, len(numeros), type(numeros))"
      ],
      "execution_count": 74,
      "outputs": [
        {
          "output_type": "stream",
          "text": [
            "[] 0 <class 'list'>\n",
            "[999, 10, 80, 7, 12, 19] 6 <class 'list'>\n"
          ],
          "name": "stdout"
        }
      ]
    },
    {
      "cell_type": "code",
      "metadata": {
        "colab": {
          "base_uri": "https://localhost:8080/"
        },
        "id": "1Ldh6Z_ihxkj",
        "outputId": "8f2fd697-9c0f-47b1-b498-d896aaa568a7"
      },
      "source": [
        "numeros = [7, 6, 1]\r\n",
        "\r\n",
        "numeros.insert(3, 99)\r\n",
        "\r\n",
        "print(numeros, len(numeros), type(numeros))\r\n"
      ],
      "execution_count": 83,
      "outputs": [
        {
          "output_type": "stream",
          "text": [
            "[7, 6, 1, 99] 4 <class 'list'>\n"
          ],
          "name": "stdout"
        }
      ]
    },
    {
      "cell_type": "code",
      "metadata": {
        "colab": {
          "base_uri": "https://localhost:8080/"
        },
        "id": "epLzfPqbipCL",
        "outputId": "fd045d41-c41d-410a-a4f7-594a4098d1f7"
      },
      "source": [
        "# Ordenando uma lista\r\n",
        "\r\n",
        "numeros = [9, 3, 4, 77, 1, 6, 5, 300, 20]\r\n",
        "\r\n",
        "numeros.sort(reverse=True)\r\n",
        "\r\n",
        "print(numeros)"
      ],
      "execution_count": 85,
      "outputs": [
        {
          "output_type": "stream",
          "text": [
            "[300, 77, 20, 9, 6, 5, 4, 3, 1]\n"
          ],
          "name": "stdout"
        }
      ]
    },
    {
      "cell_type": "code",
      "metadata": {
        "colab": {
          "base_uri": "https://localhost:8080/"
        },
        "id": "IsVFl-Psi57d",
        "outputId": "3236670b-3acf-48c6-aec6-2777a3e21215"
      },
      "source": [
        "# Visualizando todos os itens de uma lista\r\n",
        "# Declaração: 'for'\r\n",
        "\r\n",
        "numeros = [10, 90, 40, 30, 20, 50]\r\n",
        "\r\n",
        "for numero in numeros:\r\n",
        "  print(numero)"
      ],
      "execution_count": 87,
      "outputs": [
        {
          "output_type": "stream",
          "text": [
            "20\n",
            "180\n",
            "80\n",
            "60\n",
            "40\n",
            "100\n"
          ],
          "name": "stdout"
        }
      ]
    },
    {
      "cell_type": "code",
      "metadata": {
        "colab": {
          "base_uri": "https://localhost:8080/"
        },
        "id": "HeK_G5DVjQ4K",
        "outputId": "f7d90ec3-4239-4e76-cf41-6fb3e1133801"
      },
      "source": [
        "# Visualizando todos os itens de uma lista\r\n",
        "# Declaração: 'for'\r\n",
        "\r\n",
        "# for valor in lista:\r\n",
        "#   Executo uma vez para cada valor.\r\n",
        "#   Em cada execução, a variável 'valor' possui uma informação diferente\r\n",
        "# Exemplo: Numa lista com [4, 12, 6]\r\n",
        "# Se tivermos: for valor in lista:\r\n",
        "# Temos na 'primeira' execução do for a informação '4' para a variável 'valor'\r\n",
        "# Temos na 'segunda' execução do for a informação '12' para a variável 'valor'\r\n",
        "# Temos na 'terceira' execução do for a informação '6' para a variável 'valor'\r\n",
        "\r\n",
        "numeros = [10, 90, 40, 30, 20, 50]\r\n",
        "numeros_em_dobro = []\r\n",
        "\r\n",
        "for numero in numeros:\r\n",
        "  # print(\"Início do for:\", numero, numeros, numeros_em_dobro)\r\n",
        "  numeros_em_dobro.append(numero * 2)\r\n",
        "  print(\"Execução do for para o número:\", f\"{numero} * 2 = {numero * 2}\", numeros_em_dobro)\r\n",
        "  # print()\r\n",
        "\r\n",
        "print(numeros)\r\n",
        "print(numeros_em_dobro)"
      ],
      "execution_count": 101,
      "outputs": [
        {
          "output_type": "stream",
          "text": [
            "Execução do for para o número: 10 * 2 = 20 [20]\n",
            "Execução do for para o número: 90 * 2 = 180 [20, 180]\n",
            "Execução do for para o número: 40 * 2 = 80 [20, 180, 80]\n",
            "Execução do for para o número: 30 * 2 = 60 [20, 180, 80, 60]\n",
            "Execução do for para o número: 20 * 2 = 40 [20, 180, 80, 60, 40]\n",
            "Execução do for para o número: 50 * 2 = 100 [20, 180, 80, 60, 40, 100]\n",
            "[10, 90, 40, 30, 20, 50]\n",
            "[20, 180, 80, 60, 40, 100]\n"
          ],
          "name": "stdout"
        }
      ]
    }
  ]
}