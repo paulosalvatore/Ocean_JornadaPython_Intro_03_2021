{
  "nbformat": 4,
  "nbformat_minor": 0,
  "metadata": {
    "colab": {
      "name": "Ocean_Jornada_Python_Intro2_03_2021.ipynb",
      "provenance": [],
      "collapsed_sections": [],
      "authorship_tag": "ABX9TyPW989HfqvrUTCKOOZ4S64K",
      "include_colab_link": true
    },
    "kernelspec": {
      "name": "python3",
      "display_name": "Python 3"
    }
  },
  "cells": [
    {
      "cell_type": "markdown",
      "metadata": {
        "id": "view-in-github",
        "colab_type": "text"
      },
      "source": [
        "<a href=\"https://colab.research.google.com/github/paulosalvatore/Ocean_JornadaPython_Intro_03_2021/blob/main/Ocean_Jornada_Python_Intro2_03_2021.ipynb\" target=\"_parent\"><img src=\"https://colab.research.google.com/assets/colab-badge.svg\" alt=\"Open In Colab\"/></a>"
      ]
    },
    {
      "cell_type": "markdown",
      "metadata": {
        "id": "6PndkQMsEKEq"
      },
      "source": [
        "## Exercício 2 - Input de Informações\r\n",
        "\r\n",
        "Objetivo: Receber dados do usuário, trabalhar com os valores e exibir para o usuário.\r\n",
        "\r\n",
        "Dificuldade: Principiante\r\n",
        "\r\n",
        "1 - Crie um programa que receba do usuário seu nome, idade e gênero;\r\n",
        "\r\n",
        "2 - Exiba na tela seguinte mensagem: \"Olá, {nome}, você possui {idade} anos de idade e é do gênero {genero}.\";\r\n",
        "\r\n",
        "3 - Exiba também: \"Já pensou no que você fará no seu aniversário de {idade + 1} anos?\".\r\n",
        "\r\n",
        "Adicionando uma pimentinha extra: \"Se o usuário digitar idade 1, exiba apenas \"ano\" em vez de \"anos\". \"\"\""
      ]
    },
    {
      "cell_type": "code",
      "metadata": {
        "colab": {
          "base_uri": "https://localhost:8080/"
        },
        "id": "tQp8PHxNAuWb",
        "outputId": "3156c38b-74c6-4274-ca4e-878260376e9b"
      },
      "source": [
        "nome = input(\"Qual o seu nome? \")\r\n",
        "idade = int(input(\"Quantos anos você tem? \"))\r\n",
        "genero = input(\"Informe o seu gênero: \")\r\n",
        "\r\n",
        "print(nome, idade, genero)\r\n",
        "\r\n",
        "print(f\"Olá, {nome}, você possui {idade} anos de idade e é do gênero {genero}.\")\r\n",
        "\r\n",
        "print(f\"Já pensou no que você fará no seu aniversário de {idade + 1} anos?\")"
      ],
      "execution_count": 26,
      "outputs": [
        {
          "output_type": "stream",
          "text": [
            "Qual o seu nome? Paulo\n",
            "Quantos anos você tem? 5\n",
            "Informe o seu gênero: Masculino\n",
            "Paulo 5 Masculino\n",
            "Olá, Paulo, você possui 5 anos de idade e é do gênero Masculino.\n",
            "Já pensou no que você fará no seu aniversário de 6 anos?\n"
          ],
          "name": "stdout"
        }
      ]
    },
    {
      "cell_type": "code",
      "metadata": {
        "colab": {
          "base_uri": "https://localhost:8080/"
        },
        "id": "HGixIl-8JiLn",
        "outputId": "e925460d-3284-48e6-dd42-6bbbcd5461a3"
      },
      "source": [
        "# Exemplo com a \"pimentinha extra\" resolvida\r\n",
        "\r\n",
        "nome = input(\"Qual o seu nome? \")\r\n",
        "idade = int(input(\"Quantos anos você tem? \"))\r\n",
        "genero = input(\"Informe o seu gênero: \")\r\n",
        "\r\n",
        "print(nome, idade, genero)\r\n",
        "\r\n",
        "exibicao_anos = \"\"\r\n",
        "\r\n",
        "if idade != 1:\r\n",
        "  exibicao_anos = \"anos\"\r\n",
        "else:\r\n",
        "  exibicao_anos = \"ano\"\r\n",
        "\r\n",
        "print(f\"Olá, {nome}, você possui {idade} {exibicao_anos} de idade e é do gênero {genero}.\")\r\n",
        "\r\n",
        "exibicao_anos = \"\"\r\n",
        "\r\n",
        "if idade + 1 != 1:\r\n",
        "  exibicao_anos = \"anos\"\r\n",
        "else:\r\n",
        "  exibicao_anos = \"ano\"\r\n",
        "\r\n",
        "print(f\"Já pensou no que você fará no seu aniversário de {idade + 1} {exibicao_anos}?\")"
      ],
      "execution_count": 40,
      "outputs": [
        {
          "output_type": "stream",
          "text": [
            "Qual o seu nome? Paulo\n",
            "Quantos anos você tem? 0\n",
            "Informe o seu gênero: M\n",
            "Paulo 0 M\n",
            "Olá, Paulo, você possui 0 anos de idade e é do gênero M.\n",
            "Já pensou no que você fará no seu aniversário de 1 ano?\n"
          ],
          "name": "stdout"
        }
      ]
    },
    {
      "cell_type": "code",
      "metadata": {
        "colab": {
          "base_uri": "https://localhost:8080/"
        },
        "id": "Syfr4dVqLQqr",
        "outputId": "eca0425f-f037-4cf9-916c-d0c084c54c5b"
      },
      "source": [
        "# Introduzindo um pouco a utilidade das FUNÇÕES\r\n",
        "\r\n",
        "def formatar_exibicao_anos(valor):\r\n",
        "  if valor != 1:\r\n",
        "    return \"anos\"\r\n",
        "  else:\r\n",
        "    return \"ano\"\r\n",
        "\r\n",
        "\r\n",
        "# Exemplo com a \"pimentinha extra\" resolvida\r\n",
        "\r\n",
        "nome = input(\"Qual o seu nome? \")\r\n",
        "idade = int(input(\"Quantos anos você tem? \"))\r\n",
        "genero = input(\"Informe o seu gênero: \")\r\n",
        "\r\n",
        "print(nome, idade, genero)\r\n",
        "\r\n",
        "print(f\"Olá, {nome}, você possui {idade} {formatar_exibicao_anos(idade)} de idade e é do gênero {genero}.\")\r\n",
        "\r\n",
        "aniversario = idade + 1\r\n",
        "\r\n",
        "print(f\"Já pensou no que você fará no seu aniversário de {aniversario} {formatar_exibicao_anos(aniversario)}?\")"
      ],
      "execution_count": 49,
      "outputs": [
        {
          "output_type": "stream",
          "text": [
            "Qual o seu nome? Paulo\n",
            "Quantos anos você tem? 0\n",
            "Informe o seu gênero: M\n",
            "Paulo 0 M\n",
            "Olá, Paulo, você possui 0 anos de idade e é do gênero M.\n",
            "Já pensou no que você fará no seu aniversário de 1 ano?\n"
          ],
          "name": "stdout"
        }
      ]
    },
    {
      "cell_type": "code",
      "metadata": {
        "colab": {
          "base_uri": "https://localhost:8080/"
        },
        "id": "RNqNzPo0KTIk",
        "outputId": "e9a1d0a1-4184-4087-c234-85e166c1cb04"
      },
      "source": [
        "genero = \"Masculino\"\r\n",
        "\r\n",
        "print(\"Sem formatação:\", genero)\r\n",
        "\r\n",
        "print(\"Capitalize:\", genero.capitalize())\r\n",
        "\r\n",
        "print(\"Upper case:\", genero.upper())\r\n",
        "\r\n",
        "print(\"Lower case:\", genero.lower())\r\n",
        "\r\n",
        "print()\r\n",
        "\r\n",
        "if genero.lower() == \"masculino\":\r\n",
        "  print(f\"Esse if será lido\")\r\n",
        "else:\r\n",
        "  print(\"Esse if não foi lido\")"
      ],
      "execution_count": 44,
      "outputs": [
        {
          "output_type": "stream",
          "text": [
            "Sem formatação: Masculino\n",
            "Capitalize: Masculino\n",
            "Upper case: MASCULINO\n",
            "Lower case: masculino\n",
            "\n",
            "Esse \n",
            " if será lido\n"
          ],
          "name": "stdout"
        }
      ]
    },
    {
      "cell_type": "code",
      "metadata": {
        "colab": {
          "base_uri": "https://localhost:8080/"
        },
        "id": "hjfm5OICL89m",
        "outputId": "2ba711b4-54e7-4827-d378-30da7fd77ea5"
      },
      "source": [
        "idade = 5 # int\r\n",
        "outra_idade = \"5\" # str\r\n",
        "nova_idade = input(\"Idade: \") # str\r\n",
        "\r\n",
        "outra_idade_transformada = int(outra_idade)\r\n",
        "\r\n",
        "nova_idade_transformada = int(nova_idade)\r\n",
        "\r\n",
        "print()\r\n",
        "\r\n",
        "print(idade, type(idade))\r\n",
        "print()\r\n",
        "\r\n",
        "print(outra_idade, type(outra_idade))\r\n",
        "print(outra_idade_transformada, type(outra_idade_transformada))\r\n",
        "print()\r\n",
        "\r\n",
        "print(nova_idade, type(nova_idade))\r\n",
        "print(nova_idade_transformada, type(nova_idade_transformada))"
      ],
      "execution_count": 48,
      "outputs": [
        {
          "output_type": "stream",
          "text": [
            "Idade: 5\n",
            "5 <class 'int'>\n",
            "\n",
            "5 <class 'str'>\n",
            "5 <class 'int'>\n",
            "\n",
            "5 <class 'str'>\n",
            "5 <class 'int'>\n"
          ],
          "name": "stdout"
        }
      ]
    },
    {
      "cell_type": "code",
      "metadata": {
        "colab": {
          "base_uri": "https://localhost:8080/"
        },
        "id": "qiQVj7ScM-yL",
        "outputId": "7403e5d7-e1a9-4113-9502-e818fc3c7f4d"
      },
      "source": [
        "idade = 20\r\n",
        "maior_idade = False\r\n",
        "\r\n",
        "print(\"Maior idade:\", maior_idade, type(maior_idade))"
      ],
      "execution_count": 53,
      "outputs": [
        {
          "output_type": "stream",
          "text": [
            "Maior idade: False <class 'bool'>\n"
          ],
          "name": "stdout"
        }
      ]
    },
    {
      "cell_type": "code",
      "metadata": {
        "colab": {
          "base_uri": "https://localhost:8080/"
        },
        "id": "9D8eDiTlNRpv",
        "outputId": "a2242985-c60a-4a26-9149-3386ad510725"
      },
      "source": [
        "idade = 20\r\n",
        "maior_idade = idade >= 18\r\n",
        "\r\n",
        "print(\"Maior idade:\", maior_idade, type(maior_idade))"
      ],
      "execution_count": 54,
      "outputs": [
        {
          "output_type": "stream",
          "text": [
            "Maior idade: True <class 'bool'>\n"
          ],
          "name": "stdout"
        }
      ]
    },
    {
      "cell_type": "code",
      "metadata": {
        "colab": {
          "base_uri": "https://localhost:8080/"
        },
        "id": "9V8cglUaNlIk",
        "outputId": "c7b601f0-fa57-4315-d579-f8405e120a4f"
      },
      "source": [
        "idade = 17\r\n",
        "altura = 202\r\n",
        "\r\n",
        "maior_idade = idade >= 18\r\n",
        "\r\n",
        "maior_que_dois_metros = altura >= 200\r\n",
        "\r\n",
        "maior_idade_e_maior_que_dois_metros = maior_idade and maior_que_dois_metros\r\n",
        "\r\n",
        "print(\"Maior idade:\", maior_idade, type(maior_idade))\r\n",
        "print(\"Maior do que 200cm:\", maior_que_dois_metros, type(maior_que_dois_metros))\r\n",
        "\r\n",
        "print()\r\n",
        "\r\n",
        "print(\"Maior de Idade e Maior do que 2m:\", maior_idade_e_maior_que_dois_metros, type(maior_idade_e_maior_que_dois_metros))"
      ],
      "execution_count": 61,
      "outputs": [
        {
          "output_type": "stream",
          "text": [
            "Maior idade: False <class 'bool'>\n",
            "Maior do que 200cm: True <class 'bool'>\n",
            "\n",
            "Maior de Idade e Maior do que 2m: False <class 'bool'>\n"
          ],
          "name": "stdout"
        }
      ]
    },
    {
      "cell_type": "code",
      "metadata": {
        "id": "h3NqBIerOwBv"
      },
      "source": [
        "# Valores Booleanos\r\n",
        "\r\n",
        "print(True)\r\n",
        "print(False)"
      ],
      "execution_count": null,
      "outputs": []
    },
    {
      "cell_type": "code",
      "metadata": {
        "colab": {
          "base_uri": "https://localhost:8080/"
        },
        "id": "L5GTdQHIOzNz",
        "outputId": "b5d3b751-40ed-4991-dedd-2d31e69c7437"
      },
      "source": [
        "# Comparações\r\n",
        "\r\n",
        "print(\"1 > 1\", 1 > 1)\r\n",
        "print(\"1 == 1\", 1 == 1)\r\n",
        "print(\"1 != 1\", 1 != 1)\r\n",
        "print(\"1 < 1\", 1 < 1)\r\n",
        "print(\"1 <= 1\", 1 <= 1)\r\n",
        "print(\"1 >= 1\", 1 >= 1)"
      ],
      "execution_count": 63,
      "outputs": [
        {
          "output_type": "stream",
          "text": [
            "1 > 1 False\n",
            "1 == 1 True\n",
            "1 != 1 False\n",
            "1 < 1 False\n",
            "1 <= 1 True\n",
            "1 >= 1 True\n"
          ],
          "name": "stdout"
        }
      ]
    },
    {
      "cell_type": "code",
      "metadata": {
        "colab": {
          "base_uri": "https://localhost:8080/"
        },
        "id": "wGk8bfXqP-_B",
        "outputId": "f4bf6902-c99b-4d40-f684-10e22e050883"
      },
      "source": [
        "# Operadores: not (em outras linguagens também é conhecido pelo símbolo '!')\r\n",
        "# O operador inverte o valor de um booleano, portanto, True vira False e False vira True\r\n",
        "\r\n",
        "print(\"not True\", not True) # False\r\n",
        "print(\"not False\", not False) # True"
      ],
      "execution_count": 66,
      "outputs": [
        {
          "output_type": "stream",
          "text": [
            "True True\n",
            "False False\n",
            "not True False\n",
            "not False True\n"
          ],
          "name": "stdout"
        }
      ]
    },
    {
      "cell_type": "code",
      "metadata": {
        "colab": {
          "base_uri": "https://localhost:8080/"
        },
        "id": "UgLIKofyQO41",
        "outputId": "eb462f49-676d-44e6-ddf2-c5fe5e4b89d8"
      },
      "source": [
        "idade = 15\r\n",
        "maiorIdade = idade >= 18\r\n",
        "\r\n",
        "menorIdade = maiorIdade\r\n",
        "\r\n",
        "print(\"Essa pessoa é menor de idade?\", menorIdade)"
      ],
      "execution_count": 70,
      "outputs": [
        {
          "output_type": "stream",
          "text": [
            "Essa pessoa é menor de idade? False\n"
          ],
          "name": "stdout"
        }
      ]
    },
    {
      "cell_type": "code",
      "metadata": {
        "colab": {
          "base_uri": "https://localhost:8080/"
        },
        "id": "BjatBXD0RLoA",
        "outputId": "f3e493ed-c006-4ada-8f22-9429050792e9"
      },
      "source": [
        "# Operadores: and (em outras linguagens, também é conhecido pelo símbolo '&&')\r\n",
        "# Para que o resultado de operação com o 'and' seja True, é necessário que os valores ao lado do 'and' sejam True\r\n",
        "\r\n",
        "print(\"True and True: \", True and True) # True\r\n",
        "print(\"False and True: \", False and True) # False\r\n",
        "print(\"True and False: \", True and False) # False\r\n",
        "print(\"False and False: \", False and False) # False"
      ],
      "execution_count": 74,
      "outputs": [
        {
          "output_type": "stream",
          "text": [
            "True and True:  True\n",
            "False and True:  False\n",
            "True and False:  False\n",
            "False and False:  False\n"
          ],
          "name": "stdout"
        }
      ]
    },
    {
      "cell_type": "code",
      "metadata": {
        "colab": {
          "base_uri": "https://localhost:8080/"
        },
        "id": "nLSBDGyLR8Ig",
        "outputId": "3333edd7-ab4a-4efd-c3d5-aeaee56c901d"
      },
      "source": [
        "# Operadores: or (em outras linguagens, também é conhecido pelo símbolo '||')\r\n",
        "# Para que o resultado de operação com o 'or' seja True, apenas um dos valores ao lado do 'or' precisa ser True\r\n",
        "\r\n",
        "print(\"True or True: \", True or True) # True\r\n",
        "print(\"False or True: \", False or True) # True\r\n",
        "print(\"True or False: \", True or False) # True\r\n",
        "print(\"False or False: \", False or False) # False"
      ],
      "execution_count": 75,
      "outputs": [
        {
          "output_type": "stream",
          "text": [
            "True or True:  True\n",
            "False or True:  True\n",
            "True or False:  True\n",
            "False or False:  False\n"
          ],
          "name": "stdout"
        }
      ]
    },
    {
      "cell_type": "code",
      "metadata": {
        "colab": {
          "base_uri": "https://localhost:8080/"
        },
        "id": "KJ9DdApTSpld",
        "outputId": "e9f2d944-1e5a-4644-fbad-179e1e8aaff2"
      },
      "source": [
        "print(\"1 == 1: \", 1 == 1) # True\r\n",
        "print(\"1.0 == 1: \", 1.0 == 1) # True\r\n",
        "# As barras invertidas '\\' servem para escapar a string e não considerar como código\r\n",
        "print(\"\\\"1\\\" == 1: \", \"1\" == 1) # False\r\n",
        "print('\"1\" == 1: ', \"1\" == 1) # False\r\n",
        "print(\"True == 1: \", True == 1) # True\r\n",
        "print(\"True == 2: \", True == 2) # False\r\n",
        "print(\"True == 0: \", True == 0) # False\r\n",
        "print(\"False == 0: \", False == 0) # True\r\n",
        "print(\"False == False\", False == False) # True\r\n",
        "\r\n",
        "print()\r\n",
        "\r\n",
        "print(type(1), type(1.0), type(\"1\"))"
      ],
      "execution_count": 86,
      "outputs": [
        {
          "output_type": "stream",
          "text": [
            "1 == 1:  True\n",
            "1.0 == 1:  True\n",
            "\"1\" == 1:  False\n",
            "True == 1:  True\n",
            "True == 2:  False\n",
            "True == 0:  False\n",
            "False == 0:  True\n",
            "False == False True\n",
            "\n",
            "<class 'int'> <class 'float'> <class 'str'>\n"
          ],
          "name": "stdout"
        }
      ]
    },
    {
      "cell_type": "code",
      "metadata": {
        "id": "INJnqds1Uct8"
      },
      "source": [
        "# Na volta do intervalo, falaremos sobre:\r\n",
        "\r\n",
        "# If, Elif (else if), else\r\n",
        "# Funções"
      ],
      "execution_count": null,
      "outputs": []
    },
    {
      "cell_type": "code",
      "metadata": {
        "colab": {
          "base_uri": "https://localhost:8080/"
        },
        "id": "fL4_DVpWdAOc",
        "outputId": "9b047f1f-5831-4d80-ee6c-ae548cf88146"
      },
      "source": [
        "# Declarações de condição: if, elif (else if), else\r\n",
        "\r\n",
        "# Primeira: if (se), ou seja, se algo for True\r\n",
        "\r\n",
        "# Indentation block\r\n",
        "# Bloco indentado\r\n",
        "\r\n",
        "if True:\r\n",
        "  print(\"Esse if será lido\")\r\n",
        "\r\n",
        "if False:\r\n",
        "  print(\"Esse if não será lido\")\r\n",
        "\r\n",
        "print(\"Apenas o primeiro if foi lido\")"
      ],
      "execution_count": 92,
      "outputs": [
        {
          "output_type": "stream",
          "text": [
            "Esse if será lido\n",
            "Apenas o primeiro if foi lido\n"
          ],
          "name": "stdout"
        }
      ]
    },
    {
      "cell_type": "code",
      "metadata": {
        "colab": {
          "base_uri": "https://localhost:8080/"
        },
        "id": "ycJlug3seKE0",
        "outputId": "b2d1206e-2f6b-4690-c68b-c9f4eb3b02bc"
      },
      "source": [
        "# Declarações de condição: if, elif (else if), else\r\n",
        "\r\n",
        "# Segunda: else (caso contrário) e ele SEMPRE vem depois de um if ou de um elif\r\n",
        "# Por tanto, ele sempre possui uma CONDIÇÃO que foi checada antes dele\r\n",
        "# O else é ativado caso a(s) condições anteriores foram False\r\n",
        "\r\n",
        "if False:\r\n",
        "  print(\"Esse if não será lido, pois a condição dele é False\")\r\n",
        "else:\r\n",
        "  print(\"Esse else será lido, pois todas as condições anteriores são False.\")\r\n",
        "  print(\"No caso, tivemos apenas uma condição\")\r\n"
      ],
      "execution_count": 94,
      "outputs": [
        {
          "output_type": "stream",
          "text": [
            "Esse else será lido, pois todas as condições anteriores são False.\n",
            "No caso, tivemos apenas uma condição\n"
          ],
          "name": "stdout"
        }
      ]
    },
    {
      "cell_type": "code",
      "metadata": {
        "colab": {
          "base_uri": "https://localhost:8080/"
        },
        "id": "Pv_k8e7ZepzG",
        "outputId": "9287eb9e-92ae-4efe-b7b7-8209693f6441"
      },
      "source": [
        "# Declarações de condição: if, elif (else if), else\r\n",
        "\r\n",
        "# Terceira: elif (em outras linguagens, também é conhecido como else if) (caso contrário, se), ou seja,\r\n",
        "# Quando todas as condições anteriores foram False, mas a sua condição é True\r\n",
        "# Um elif precisa OBRIGATORIAMENTE estar depois de um IF ou de outro ELIF\r\n",
        "\r\n",
        "if False:\r\n",
        "  print(\"1 - Esse if não será lido\")\r\n",
        "elif True:\r\n",
        "  print(\"2 - Esse elif será lido\")\r\n",
        "\r\n",
        "print()\r\n",
        "\r\n",
        "if False:\r\n",
        "  print(\"1 - Esse if não será lido\")\r\n",
        "elif False:\r\n",
        "  print(\"2 - Esse elif não será lido\")\r\n",
        "elif True:\r\n",
        "  print(\"3 - Esse elif será lido\")\r\n",
        "\r\n",
        "print()\r\n",
        "\r\n",
        "if False:\r\n",
        "  print(\"1 - Esse if não será lido\")\r\n",
        "elif False:\r\n",
        "  print(\"2 - Esse elif não será lido\")\r\n",
        "else:\r\n",
        "  print(\"3 - Esse else será lido\")\r\n",
        "\r\n",
        "print()\r\n",
        "\r\n",
        "if False:\r\n",
        "  print(\"1 - Esse if não será lido\")\r\n",
        "elif False:\r\n",
        "  print(\"2 - Esse elif não será lido\")\r\n",
        "elif False:\r\n",
        "  print(\"3 - Esse elif não será lido\")\r\n",
        "else:\r\n",
        "  print(\"4 - Esse else será lido\")\r\n",
        "\r\n",
        "print()\r\n",
        "\r\n",
        "if True:\r\n",
        "  print(\"1 - Esse if não será lido\")\r\n",
        "\r\n",
        "  if False:\r\n",
        "    print(\"2 - Esse if não será lido\")\r\n",
        "  elif True:\r\n",
        "    print(\"3 - Esse elif será lido\")\r\n"
      ],
      "execution_count": 101,
      "outputs": [
        {
          "output_type": "stream",
          "text": [
            "2 - Esse elif será lido\n",
            "\n",
            "3 - Esse elif será lido\n",
            "\n",
            "3 - Esse else será lido\n",
            "\n",
            "4 - Esse else será lido\n",
            "\n",
            "1 - Esse if não será lido\n",
            "3 - Esse elif será lido\n"
          ],
          "name": "stdout"
        }
      ]
    },
    {
      "cell_type": "code",
      "metadata": {
        "colab": {
          "base_uri": "https://localhost:8080/"
        },
        "id": "GCeUWtTtgDEw",
        "outputId": "eb2da309-47a9-429b-dd77-6166878cf5ec"
      },
      "source": [
        "idade = 20\r\n",
        "maior_idade = idade >= 18\r\n",
        "\r\n",
        "if maior_idade:\r\n",
        "  print(\"Essa pessoa é maior de idade.\")\r\n",
        "else:\r\n",
        "  print(\"Essa pessoa é menor de idade\")"
      ],
      "execution_count": 103,
      "outputs": [
        {
          "output_type": "stream",
          "text": [
            "Essa pessoa é maior de idade.\n"
          ],
          "name": "stdout"
        }
      ]
    },
    {
      "cell_type": "code",
      "metadata": {
        "colab": {
          "base_uri": "https://localhost:8080/"
        },
        "id": "PuOOu99GgOf3",
        "outputId": "7cc0960f-9ee8-40df-805d-d1caed4dfd68"
      },
      "source": [
        "letra = input(\"Digite uma letra: \").upper()\r\n",
        "\r\n",
        "if letra == \"A\":\r\n",
        "  print(\"A de Amor\")\r\n",
        "elif letra == \"B\":\r\n",
        "  print(\"B de Baixinho\")\r\n",
        "elif letra == \"C\":\r\n",
        "  print(\"C de Coração\")\r\n",
        "else:\r\n",
        "  print(\"Não sei opinar\")"
      ],
      "execution_count": 116,
      "outputs": [
        {
          "output_type": "stream",
          "text": [
            "Digite uma letra: A\n",
            "A de Amor\n"
          ],
          "name": "stdout"
        }
      ]
    },
    {
      "cell_type": "code",
      "metadata": {
        "colab": {
          "base_uri": "https://localhost:8080/"
        },
        "id": "rx3xbh68hBnO",
        "outputId": "15c8203b-76df-407b-d47d-5e4b53cc482a"
      },
      "source": [
        "if True:\r\n",
        "  print(\"Esse if será lido\")\r\n",
        "\r\n",
        "\r\n",
        "variavel = True\r\n",
        "if variavel:\r\n",
        "  print(\"Esse if será lido\")\r\n",
        "\r\n",
        "\r\n",
        "variavel2 = 1 == 1\r\n",
        "if variavel2:\r\n",
        "  print(\"Esse if será lido\")\r\n",
        "\r\n",
        "\r\n",
        "if 1 == 1:\r\n",
        "  print(\"Esse if será lido\")\r\n"
      ],
      "execution_count": 119,
      "outputs": [
        {
          "output_type": "stream",
          "text": [
            "Esse if será lido\n",
            "Esse if será lido\n",
            "Esse if será lido\n",
            "Esse if será lido\n"
          ],
          "name": "stdout"
        }
      ]
    },
    {
      "cell_type": "code",
      "metadata": {
        "id": "Beh8rycjhvYV"
      },
      "source": [
        "idade = 15\r\n",
        "maior_idade = idade >= 18\r\n",
        "\r\n",
        "if maior_idade:\r\n",
        "  print(\"Maior\")\r\n",
        "else\r\n",
        "  print(\"Menor\")"
      ],
      "execution_count": null,
      "outputs": []
    },
    {
      "cell_type": "code",
      "metadata": {
        "colab": {
          "base_uri": "https://localhost:8080/"
        },
        "id": "jST0RVbuh1w7",
        "outputId": "082c8bd6-14a5-4eda-f84e-8584109feb5a"
      },
      "source": [
        "idade = 40\r\n",
        "faixa_etaria1 = idade >= 0 and idade < 15\r\n",
        "faixa_etaria2 = idade >= 15 and idade < 40\r\n",
        "faixa_etaria3 = idade >= 40\r\n",
        "\r\n",
        "print(\"Idade:\", idade)\r\n",
        "print(\"Faixa Etária 1:\", faixa_etaria1)\r\n",
        "print(\"Faixa Etária 2:\", faixa_etaria2)\r\n",
        "print(\"Faixa Etária 3:\", faixa_etaria3)\r\n",
        "\r\n",
        "if faixa_etaria3:\r\n",
        "  print(\"Essa pessoa está na faixa etária 3\")\r\n",
        "elif faixa_etaria2:\r\n",
        "  print(\"Essa pessoa está na faixa etária 2\")\r\n",
        "elif faixa_etaria1:\r\n",
        "  print(\"Essa pessoa está na faixa etária 1\")\r\n",
        "else:\r\n",
        "  print(\"Informe uma idade correta!\")"
      ],
      "execution_count": 136,
      "outputs": [
        {
          "output_type": "stream",
          "text": [
            "Idade: 40\n",
            "Faixa Etária 1: False\n",
            "Faixa Etária 2: False\n",
            "Faixa Etária 3: True\n",
            "Essa pessoa está na faixa etária 3\n"
          ],
          "name": "stdout"
        }
      ]
    },
    {
      "cell_type": "code",
      "metadata": {
        "colab": {
          "base_uri": "https://localhost:8080/"
        },
        "id": "G4gp4dwXj65_",
        "outputId": "116cac47-d6a4-4cf9-dfc4-d44e886019d7"
      },
      "source": [
        "# Funções\r\n",
        "\r\n",
        "# Para criar uma função, usamos a declaração 'def', seguida de parênteses e criando um bloco com o símbolo ':'\r\n",
        "# Todo o conteúdo que estiver dentro da função, terá um nível de indentação, como fizemos no if, elif e else\r\n",
        "\r\n",
        "# É importante entender que a função possui dois estágios: declaração e execução\r\n",
        "# A declaração é quando falamos o que a função irá fazer ao ser EXECUTADA\r\n",
        "# A execução é a função tendo efeito de fato e executando tudo no processador\r\n",
        "\r\n",
        "# Declaração podemos fazer apenas uma única vez\r\n",
        "# Execução podemos fazer quantas vezes quisermos (daí vem a magia das funções, o reaproveitamento de lógica)\r\n",
        "\r\n",
        "# Declaração da função 'exibir_nome()':\r\n",
        "def exibir_nome():\r\n",
        "  print(\"Paulo Salvatoree\")\r\n",
        "\r\n",
        "\r\n",
        "# Execução da função 'exibir_nome()':\r\n",
        "exibir_nome()\r\n",
        "exibir_nome()\r\n"
      ],
      "execution_count": 143,
      "outputs": [
        {
          "output_type": "stream",
          "text": [
            "Paulo Salvatoree\n",
            "Paulo Salvatoree\n"
          ],
          "name": "stdout"
        }
      ]
    },
    {
      "cell_type": "code",
      "metadata": {
        "colab": {
          "base_uri": "https://localhost:8080/"
        },
        "id": "ZKaEiNONk3_Z",
        "outputId": "81991204-2672-41bc-a53d-95e4727b3b8b"
      },
      "source": [
        "def exibir_numero():\r\n",
        "  print(1)\r\n",
        "\r\n",
        "exibir_numero()"
      ],
      "execution_count": 146,
      "outputs": [
        {
          "output_type": "stream",
          "text": [
            "1\n"
          ],
          "name": "stdout"
        }
      ]
    },
    {
      "cell_type": "code",
      "metadata": {
        "colab": {
          "base_uri": "https://localhost:8080/"
        },
        "id": "JC4GyPMKlhGr",
        "outputId": "d46188af-a748-428f-89f7-efb09b114bd9"
      },
      "source": [
        "# Declaração\r\n",
        "\r\n",
        "def exibir_faixa_etaria():\r\n",
        "    idade = int(input(\"Digite a idade:\"))\r\n",
        "    faixa_etaria1 = idade >= 0\r\n",
        "    faixa_etaria2 = idade >= 18\r\n",
        "    faixa_etaria3 = idade >= 40\r\n",
        "\r\n",
        "    print(\"Idade:\", idade)\r\n",
        "    # print(\"Faixa Etária 1:\", faixa_etaria1)\r\n",
        "    # print(\"Faixa Etária 2:\", faixa_etaria2)\r\n",
        "    # print(\"Faixa Etária 3:\", faixa_etaria3)\r\n",
        "\r\n",
        "    if faixa_etaria3:\r\n",
        "        print(\"Essa pessoa está na faixa etária 3\")\r\n",
        "    elif faixa_etaria2:\r\n",
        "        print(\"Essa pessoa está na faixa etária 2\")\r\n",
        "    elif faixa_etaria1:\r\n",
        "        print(\"Essa pessoa está na faixa etária 1\")\r\n",
        "    else:\r\n",
        "        print(\"Informe uma idade correta!\")\r\n",
        "        exibir_faixa_etaria()\r\n",
        "\r\n",
        "# Execução\r\n",
        "exibir_faixa_etaria()"
      ],
      "execution_count": 13,
      "outputs": [
        {
          "output_type": "stream",
          "text": [
            "Digite a idade:-5\n",
            "Idade: -5\n",
            "Informe uma idade correta!\n",
            "Digite a idade:-10\n",
            "Idade: -10\n",
            "Informe uma idade correta!\n",
            "Digite a idade:10\n",
            "Idade: 10\n",
            "Essa pessoa está na faixa etária 1\n"
          ],
          "name": "stdout"
        }
      ]
    },
    {
      "cell_type": "code",
      "metadata": {
        "colab": {
          "base_uri": "https://localhost:8080/"
        },
        "id": "v9T39CGcn3Z5",
        "outputId": "28f71035-1635-4634-e2e4-ef7b294ece6f"
      },
      "source": [
        "# Declaração\r\n",
        "\r\n",
        "# 'idade' é o parâmetro necessário para que a função 'exibir_faixa_etaria()' execute.\r\n",
        "def exibir_faixa_etaria(idade):\r\n",
        "    faixa_etaria1 = idade >= 0\r\n",
        "    faixa_etaria2 = idade >= 18\r\n",
        "    faixa_etaria3 = idade >= 40\r\n",
        "\r\n",
        "    print(\"Idade:\", idade)\r\n",
        "    # print(\"Faixa Etária 1:\", faixa_etaria1)\r\n",
        "    # print(\"Faixa Etária 2:\", faixa_etaria2)\r\n",
        "    # print(\"Faixa Etária 3:\", faixa_etaria3)\r\n",
        "\r\n",
        "    if faixa_etaria3:\r\n",
        "        print(\"Essa pessoa está na faixa etária 3\")\r\n",
        "    elif faixa_etaria2:\r\n",
        "        print(\"Essa pessoa está na faixa etária 2\")\r\n",
        "    elif faixa_etaria1:\r\n",
        "        print(\"Essa pessoa está na faixa etária 1\")\r\n",
        "    else:\r\n",
        "        print(\"Informe uma idade correta!\")\r\n",
        "\r\n",
        "# Execução\r\n",
        "  # O valor '50' é um argumento da função 'exibir_faixa_etaria'. Esse valor entrará para a função\r\n",
        "  # como o parâmetro 'idade\r\n",
        "exibir_faixa_etaria(50)\r\n",
        "exibir_faixa_etaria(10)\r\n",
        "exibir_faixa_etaria(30)\r\n",
        "exibir_faixa_etaria(70)\r\n",
        "exibir_faixa_etaria(25)\r\n",
        "exibir_faixa_etaria(-10)"
      ],
      "execution_count": 14,
      "outputs": [
        {
          "output_type": "stream",
          "text": [
            "Idade: 50\n",
            "Essa pessoa está na faixa etária 3\n",
            "Idade: 10\n",
            "Essa pessoa está na faixa etária 1\n",
            "Idade: 30\n",
            "Essa pessoa está na faixa etária 2\n",
            "Idade: 70\n",
            "Essa pessoa está na faixa etária 3\n",
            "Idade: 25\n",
            "Essa pessoa está na faixa etária 2\n",
            "Idade: -10\n",
            "Informe uma idade correta!\n"
          ],
          "name": "stdout"
        }
      ]
    },
    {
      "cell_type": "markdown",
      "metadata": {
        "id": "wfXjGzqrpITM"
      },
      "source": [
        "## Exercícios para praticar\r\n",
        "\r\n",
        "https://github.com/paulosalvatore/ExerciciosPython/blob/master/exercicios/exercicio5.py\r\n",
        "\r\n",
        "https://github.com/paulosalvatore/ExerciciosPython/blob/master/exercicios/exercicio6.py\r\n",
        "\r\n",
        "https://github.com/paulosalvatore/ExerciciosPython/blob/master/exercicios/exercicio7.py\r\n",
        "\r\n",
        "https://github.com/paulosalvatore/ExerciciosPython/blob/master/exercicios/exercicio8.py\r\n",
        "\r\n",
        "https://github.com/paulosalvatore/ExerciciosPython/blob/master/exercicios/exercicio9.py\r\n",
        "\r\n",
        "https://github.com/paulosalvatore/ExerciciosPython/blob/master/exercicios/exercicio10.py\r\n",
        "\r\n",
        "https://github.com/paulosalvatore/ExerciciosPython/blob/master/exercicios/exercicio12.py\r\n",
        "\r\n",
        "## Exercícios para trazer amanhã\r\n",
        "\r\n",
        "https://github.com/paulosalvatore/ExerciciosPython/blob/master/exercicios/exercicio13.py"
      ]
    }
  ]
}