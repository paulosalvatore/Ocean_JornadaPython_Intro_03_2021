{
  "nbformat": 4,
  "nbformat_minor": 0,
  "metadata": {
    "colab": {
      "name": "Ocean_Jornada_Python_03_2021_Intro3.ipynb",
      "provenance": [],
      "collapsed_sections": [],
      "authorship_tag": "ABX9TyPwebU0NF+RRSC6kvFOS8GL",
      "include_colab_link": true
    },
    "kernelspec": {
      "name": "python3",
      "display_name": "Python 3"
    }
  },
  "cells": [
    {
      "cell_type": "markdown",
      "metadata": {
        "id": "view-in-github",
        "colab_type": "text"
      },
      "source": [
        "<a href=\"https://colab.research.google.com/github/paulosalvatore/Ocean_JornadaPython_Intro_03_2021/blob/main/Ocean_Jornada_Python_03_2021_Intro3.ipynb\" target=\"_parent\"><img src=\"https://colab.research.google.com/assets/colab-badge.svg\" alt=\"Open In Colab\"/></a>"
      ]
    },
    {
      "cell_type": "code",
      "metadata": {
        "colab": {
          "base_uri": "https://localhost:8080/",
          "height": 105
        },
        "id": "EUPtJhQ3KbN-",
        "outputId": "a31bb4b1-2a2c-433f-d5c6-02a2639f5de2"
      },
      "source": [
        "# Correção do exercício de ontem\r\n",
        "\r\n",
        "\"\"\"\r\n",
        "Exercício 13\r\n",
        "Nome: Convertendo Celsius/Fahrenheit\r\n",
        "Objetivo: Escrever duas funções de conversão, uma de graus celsius em fahrenheit e a outra que faça o contrário.\r\n",
        "Dificuldade: Principiante\r\n",
        "1 - Crie um aplicativo de conversão entre as temperaturas Celsius e Fahrenheit.\r\n",
        "2 - Primeiro o usuário deve escolher se vai entrar com a temperatura em Celsius ou Fahrenheit, depois a conversão escolhida é realizada.\r\n",
        "3 - Se C é a temperatura em Celsius e F em Fahrenheit, as fórmulas de conversão são:\r\n",
        "F = (9 * C / 5) + 32\r\n",
        "C = 5 * (F - 32) / 9\r\n",
        "\"\"\""
      ],
      "execution_count": 1,
      "outputs": [
        {
          "output_type": "execute_result",
          "data": {
            "application/vnd.google.colaboratory.intrinsic+json": {
              "type": "string"
            },
            "text/plain": [
              "'\\nExercício 13\\nNome: Convertendo Celsius/Fahrenheit\\nObjetivo: Escrever duas funções de conversão, uma de graus celsius em fahrenheit e a outra que faça o contrário.\\nDificuldade: Principiante\\n1 - Crie um aplicativo de conversão entre as temperaturas Celsius e Fahrenheit.\\n2 - Primeiro o usuário deve escolher se vai entrar com a temperatura em Celsius ou Fahrenheit, depois a conversão escolhida é realizada.\\n3 - Se C é a temperatura em Celsius e F em Fahrenheit, as fórmulas de conversão são:\\nF = (9 * C / 5) + 32\\nC = 5 * (F - 32) / 9\\n'"
            ]
          },
          "metadata": {
            "tags": []
          },
          "execution_count": 1
        }
      ]
    },
    {
      "cell_type": "code",
      "metadata": {
        "colab": {
          "base_uri": "https://localhost:8080/",
          "height": 0
        },
        "id": "1FEtrqOALdYU",
        "outputId": "69d41c34-149c-4613-88aa-3f49c9d7b3ae"
      },
      "source": [
        "# Declaração\r\n",
        "def teste(celsius, fahrenheit):\r\n",
        "  F = (9 * celsius / 5) + 32\r\n",
        "  print(f\"{celsius}ºC = {F}ºF\")\r\n",
        "\r\n",
        "  C = 5 * (fahrenheit - 32) / 9\r\n",
        "  print(f\"{fahrenheit}ºF = {C}ºC\")\r\n",
        "\r\n",
        "# Execução\r\n",
        "# teste(100, 212)\r\n",
        "\r\n",
        "\r\n",
        "\r\n",
        "# Declaração\r\n",
        "def converter_de_celsius_para_fahrenheit(celsius): # A informação que entrar via argumento será nomeada pelo parâmetro 'celsius'\r\n",
        "  F = (9 * celsius / 5) + 32\r\n",
        "  print(f\"{celsius}ºC = {F}ºF\")\r\n",
        "\r\n",
        "# Execução\r\n",
        "converter_de_celsius_para_fahrenheit(0)\r\n",
        "\r\n",
        "# Declaração\r\n",
        "def converter_de_fahrenheit_para_celsius(fahrenheit): # A informação que entrar via argumento será nomeada pelo parâmetro 'fahrenheit'\r\n",
        "  C = 5 * (fahrenheit - 32) / 9\r\n",
        "  print(f\"{fahrenheit}ºF = {C}ºC\")\r\n",
        "\r\n",
        "# Execução\r\n",
        "converter_de_fahrenheit_para_celsius(32)"
      ],
      "execution_count": 3,
      "outputs": [
        {
          "output_type": "stream",
          "text": [
            "0ºC = 32.0ºF\n",
            "32ºF = 0.0ºC\n"
          ],
          "name": "stdout"
        }
      ]
    },
    {
      "cell_type": "code",
      "metadata": {
        "colab": {
          "base_uri": "https://localhost:8080/",
          "height": 0
        },
        "id": "lrVIk9bePLM_",
        "outputId": "b008337a-78ab-4052-e445-b1c27e1cbd71"
      },
      "source": [
        "# Deixando o usuário escolher o que quer fazer\r\n",
        "\r\n",
        "escolha_usuario = input(\"Você quer converter para qual escala? ('C' para Celsius ou 'F' para Fahrenheit)\\n\")\r\n",
        "\r\n",
        "if escolha_usuario == \"C\":\r\n",
        "  escala = \"F\"\r\n",
        "elif escolha_usuario == \"F\":\r\n",
        "  escala = \"C\"\r\n",
        "\r\n",
        "temperatura = float(input(f\"Digite o valor da temperatura, em º{escala}:\"))\r\n",
        "\r\n",
        "# print(escolha_usuario, type(escolha_usuario))\r\n",
        "# print(temperatura, type(temperatura))\r\n",
        "\r\n",
        "if escolha_usuario == \"C\":\r\n",
        "  # print(\"Usuário escolheu Celsius\")\r\n",
        "  # print(\"Converter usando a temperatura:\", temperatura)\r\n",
        "  converter_de_fahrenheit_para_celsius(temperatura) # Temperatura entra como argumento\r\n",
        "elif escolha_usuario == \"F\":\r\n",
        "  # print(\"Usuário escolheu Fahrenheit\")\r\n",
        "  # print(\"Converter usando a temperatura:\", temperatura)\r\n",
        "  converter_de_celsius_para_fahrenheit(temperatura) # Temperatura entra como argumento"
      ],
      "execution_count": 27,
      "outputs": [
        {
          "output_type": "stream",
          "text": [
            "Você quer converter para qual escala? ('C' para Celsius ou 'F' para Fahrenheit)\n",
            "C\n",
            "Digite o valor da temperatura, em ºF:32\n",
            "32.0ºF = 0.0ºC\n"
          ],
          "name": "stdout"
        }
      ]
    },
    {
      "cell_type": "code",
      "metadata": {
        "colab": {
          "base_uri": "https://localhost:8080/",
          "height": 0
        },
        "id": "68PPu2XzUKzQ",
        "outputId": "ece30a3b-2d17-40f1-abf2-cec7878adff5"
      },
      "source": [
        "def teste(a, b): # Parâmetro, que será o argumento recebido\r\n",
        "  print(\"Teste foi chamado\", a, b)\r\n",
        "\r\n",
        "teste(10, 20) # Argumento, que corresponde ao valor"
      ],
      "execution_count": 38,
      "outputs": [
        {
          "output_type": "stream",
          "text": [
            "Teste foi chamado 10 20\n"
          ],
          "name": "stdout"
        }
      ]
    },
    {
      "cell_type": "code",
      "metadata": {
        "colab": {
          "base_uri": "https://localhost:8080/",
          "height": 0
        },
        "id": "90b8W_iITzAi",
        "outputId": "9eeac167-ce91-427a-a4ef-8521a19222b6"
      },
      "source": [
        "# Funções com retorno\r\n",
        "\r\n",
        "def soma(a, b):\r\n",
        "  # print(f\"{a} + {b} = {a + b}\")\r\n",
        "\r\n",
        "  return a + b\r\n",
        "\r\n",
        "print(5, type(5))\r\n",
        "print(10, type(10))\r\n",
        "print(\"soma(5, 10)\", soma(5, 10), type(soma(5, 10)))\r\n",
        "\r\n",
        "resultado_soma1 = soma(5, 10)\r\n",
        "print(\"resultado_soma1\", resultado_soma1, type(resultado_soma1))\r\n",
        "\r\n",
        "resultado_soma2 = soma(10, 20)\r\n",
        "print(\"resultado_soma2\", resultado_soma2, type(resultado_soma2))\r\n",
        "\r\n",
        "resultado_final = soma(resultado_soma1, resultado_soma2)\r\n",
        "print(\"resultado_final\", resultado_final)"
      ],
      "execution_count": 42,
      "outputs": [
        {
          "output_type": "stream",
          "text": [
            "5 <class 'int'>\n",
            "10 <class 'int'>\n",
            "soma(5, 10) 15 <class 'int'>\n",
            "resultado_soma1 15 <class 'int'>\n",
            "resultado_soma2 30 <class 'int'>\n",
            "resultado_final 45\n"
          ],
          "name": "stdout"
        }
      ]
    },
    {
      "cell_type": "code",
      "metadata": {
        "id": "Np2bsHysXUP1"
      },
      "source": [
        "def calculadora(a, b):\r\n",
        "  return a + b\r\n",
        "\r\n",
        "def monitor(informacao):\r\n",
        "  print(informacao)\r\n",
        "\r\n",
        "def enviar_para_impressora(informacao):\r\n",
        "  print(\"Print Page A4:\", informacao)\r\n",
        "\r\n",
        "def programa():\r\n",
        "  resultado = calculcadora(10, 20)\r\n",
        "  enviar_para_monitor(resultado)\r\n",
        "\r\n",
        "  enviar_para_impressora(resultado)"
      ],
      "execution_count": null,
      "outputs": []
    },
    {
      "cell_type": "code",
      "metadata": {
        "colab": {
          "base_uri": "https://localhost:8080/",
          "height": 0
        },
        "id": "o-1HxFzvWx5p",
        "outputId": "989ac310-8f81-43df-8ee5-8d3a5ce71328"
      },
      "source": [
        "# Lista\r\n",
        "\r\n",
        "#         Valores da lista\r\n",
        "numeros = [5, 9, 10, 20, 40, 80, 120, 300, 500, 900, 1000]\r\n",
        "# Índices [0, 1,  2,  3,  4,  5,   6]\r\n",
        "\r\n",
        "print(numeros, type(numeros))\r\n",
        "\r\n",
        "primeiro_numero = numeros[0]\r\n",
        "print(\"Primeiro número:\", primeiro_numero, type(primeiro_numero))\r\n",
        "\r\n",
        "quantidade_numeros = len(numeros)\r\n",
        "print(\"Quantidade de números:\", quantidade_numeros, type(quantidade_numeros))\r\n",
        "\r\n",
        "ultimo_indice = quantidade_numeros - 1\r\n",
        "ultimo_numero = numeros[ultimo_indice]\r\n",
        "print(\"Último número:\", ultimo_numero, type(ultimo_numero))"
      ],
      "execution_count": 56,
      "outputs": [
        {
          "output_type": "stream",
          "text": [
            "[5, 9, 10, 20, 40, 80, 120, 300, 500, 900, 1000] <class 'list'>\n",
            "Primeiro número: 5 <class 'int'>\n",
            "Quantidade de números: 11 <class 'int'>\n",
            "Último número: 1000 <class 'int'>\n"
          ],
          "name": "stdout"
        }
      ]
    },
    {
      "cell_type": "code",
      "metadata": {
        "colab": {
          "base_uri": "https://localhost:8080/",
          "height": 0
        },
        "id": "5th2__fufNLM",
        "outputId": "69da4b0b-ce0f-4150-e995-05db0566981f"
      },
      "source": [
        "# Abreviando a maneira de pegar o último número\r\n",
        "\r\n",
        "numeros = [5, 9, 10, 20]\r\n",
        "#         [0, 1,  2,  3]\r\n",
        "\r\n",
        "ultimo_numero = numeros[len(numeros) - 1]\r\n",
        "print(\"Último número:\", ultimo_numero)\r\n",
        "\r\n",
        "# Podemos também remover o len() e deixar apenas o '-1' que o Python faz pra gente\r\n",
        "ultimo_numero = numeros[-1]\r\n",
        "print(\"Último número:\", ultimo_numero)"
      ],
      "execution_count": 60,
      "outputs": [
        {
          "output_type": "stream",
          "text": [
            "Último número: 20\n",
            "Último número: 20\n"
          ],
          "name": "stdout"
        }
      ]
    },
    {
      "cell_type": "code",
      "metadata": {
        "colab": {
          "base_uri": "https://localhost:8080/",
          "height": 0
        },
        "id": "vjMa8Q7Rfxbc",
        "outputId": "e3f88982-5c81-4177-daee-4c230a733f0c"
      },
      "source": [
        "# Mudando os valores de uma lista\r\n",
        "\r\n",
        "numeros = [5, 9, 10, 20]\r\n",
        "\r\n",
        "print(\"Primeiro número:\", numeros[0], numeros)\r\n",
        "print(\"Último número:\", numeros[-1], numeros)\r\n",
        "\r\n",
        "numeros[0] = 90\r\n",
        "\r\n",
        "print(\"Primeiro número alterado:\", numeros[0], numeros)\r\n",
        "\r\n",
        "numeros[-1] = 15\r\n",
        "\r\n",
        "print(\"Último número alterado:\", numeros[-1], numeros)"
      ],
      "execution_count": 63,
      "outputs": [
        {
          "output_type": "stream",
          "text": [
            "Primeiro número: 5 [5, 9, 10, 20]\n",
            "Último número: 20 [5, 9, 10, 20]\n",
            "Primeiro número alterado: 90 [90, 9, 10, 20]\n",
            "Último número alterado: 15 [90, 9, 10, 15]\n"
          ],
          "name": "stdout"
        }
      ]
    },
    {
      "cell_type": "code",
      "metadata": {
        "colab": {
          "base_uri": "https://localhost:8080/",
          "height": 0
        },
        "id": "j0uY509cggL4",
        "outputId": "96d0d6a7-dde2-4b29-a886-94b7e8315adb"
      },
      "source": [
        "numeros = [1, 11, 44, 67, 8, 9, 4]\r\n",
        "indice = int(input(\"Digite um índice: \"))\r\n",
        "\r\n",
        "numeros[indice] = 90\r\n",
        "\r\n",
        "print(numeros)"
      ],
      "execution_count": 68,
      "outputs": [
        {
          "output_type": "stream",
          "text": [
            "Digite um índice: 3\n",
            "[1, 11, 44, 90, 8, 9, 4]\n"
          ],
          "name": "stdout"
        }
      ]
    },
    {
      "cell_type": "code",
      "metadata": {
        "colab": {
          "base_uri": "https://localhost:8080/",
          "height": 0
        },
        "id": "1S8JXQ9gg3IQ",
        "outputId": "8bfef178-25ce-4a49-b6ef-ddce0bf40eed"
      },
      "source": [
        "# Listas vazias\r\n",
        "\r\n",
        "lista = []\r\n",
        "\r\n",
        "print(lista, len(lista), type(lista))"
      ],
      "execution_count": 70,
      "outputs": [
        {
          "output_type": "stream",
          "text": [
            "[] 0 <class 'list'>\n"
          ],
          "name": "stdout"
        }
      ]
    },
    {
      "cell_type": "code",
      "metadata": {
        "colab": {
          "base_uri": "https://localhost:8080/",
          "height": 0
        },
        "id": "RLoOqat5g78b",
        "outputId": "9105d2a0-e640-4cf5-eb0e-147c3a0ba135"
      },
      "source": [
        "numeros = [12]\r\n",
        "\r\n",
        "print(numeros, len(numeros), type(numeros))"
      ],
      "execution_count": 71,
      "outputs": [
        {
          "output_type": "stream",
          "text": [
            "[12] 1 <class 'list'>\n"
          ],
          "name": "stdout"
        }
      ]
    },
    {
      "cell_type": "code",
      "metadata": {
        "colab": {
          "base_uri": "https://localhost:8080/",
          "height": 0
        },
        "id": "Gd6DzmflhLAr",
        "outputId": "a10be3db-3d03-42d7-d94d-3896334b3f9a"
      },
      "source": [
        "# Adicionando elementos na lista\r\n",
        "\r\n",
        "numeros = []\r\n",
        "\r\n",
        "print(numeros, len(numeros), type(numeros))\r\n",
        "\r\n",
        "numeros.append(10)\r\n",
        "numeros.append(80)\r\n",
        "numeros.append(7)\r\n",
        "numeros.append(12)\r\n",
        "numeros.append(19)\r\n",
        "numeros.insert(0, 999)\r\n",
        "\r\n",
        "print(numeros, len(numeros), type(numeros))"
      ],
      "execution_count": 74,
      "outputs": [
        {
          "output_type": "stream",
          "text": [
            "[] 0 <class 'list'>\n",
            "[999, 10, 80, 7, 12, 19] 6 <class 'list'>\n"
          ],
          "name": "stdout"
        }
      ]
    },
    {
      "cell_type": "code",
      "metadata": {
        "colab": {
          "base_uri": "https://localhost:8080/"
        },
        "id": "1Ldh6Z_ihxkj",
        "outputId": "8f2fd697-9c0f-47b1-b498-d896aaa568a7"
      },
      "source": [
        "numeros = [7, 6, 1]\r\n",
        "\r\n",
        "numeros.insert(3, 99)\r\n",
        "\r\n",
        "print(numeros, len(numeros), type(numeros))\r\n"
      ],
      "execution_count": 83,
      "outputs": [
        {
          "output_type": "stream",
          "text": [
            "[7, 6, 1, 99] 4 <class 'list'>\n"
          ],
          "name": "stdout"
        }
      ]
    },
    {
      "cell_type": "code",
      "metadata": {
        "colab": {
          "base_uri": "https://localhost:8080/"
        },
        "id": "epLzfPqbipCL",
        "outputId": "fd045d41-c41d-410a-a4f7-594a4098d1f7"
      },
      "source": [
        "# Ordenando uma lista\r\n",
        "\r\n",
        "numeros = [9, 3, 4, 77, 1, 6, 5, 300, 20]\r\n",
        "\r\n",
        "numeros.sort(reverse=True)\r\n",
        "\r\n",
        "print(numeros)"
      ],
      "execution_count": 85,
      "outputs": [
        {
          "output_type": "stream",
          "text": [
            "[300, 77, 20, 9, 6, 5, 4, 3, 1]\n"
          ],
          "name": "stdout"
        }
      ]
    },
    {
      "cell_type": "code",
      "metadata": {
        "colab": {
          "base_uri": "https://localhost:8080/"
        },
        "id": "IsVFl-Psi57d",
        "outputId": "3236670b-3acf-48c6-aec6-2777a3e21215"
      },
      "source": [
        "# Visualizando todos os itens de uma lista\r\n",
        "# Declaração: 'for'\r\n",
        "\r\n",
        "numeros = [10, 90, 40, 30, 20, 50]\r\n",
        "\r\n",
        "for numero in numeros:\r\n",
        "  print(numero)"
      ],
      "execution_count": 87,
      "outputs": [
        {
          "output_type": "stream",
          "text": [
            "20\n",
            "180\n",
            "80\n",
            "60\n",
            "40\n",
            "100\n"
          ],
          "name": "stdout"
        }
      ]
    },
    {
      "cell_type": "code",
      "metadata": {
        "colab": {
          "base_uri": "https://localhost:8080/"
        },
        "id": "HeK_G5DVjQ4K",
        "outputId": "c7a766ad-a079-4fc8-aeda-9ba4bb139770"
      },
      "source": [
        "# Visualizando todos os itens de uma lista\r\n",
        "# Declaração: 'for'\r\n",
        "\r\n",
        "# for valor in lista:\r\n",
        "#   Executo uma vez para cada valor.\r\n",
        "#   Em cada execução, a variável 'valor' possui uma informação diferente\r\n",
        "# Exemplo: Numa lista com [4, 12, 6]\r\n",
        "# Se tivermos: for valor in lista:\r\n",
        "# Temos na 'primeira' execução do for a informação '4' para a variável 'valor'\r\n",
        "# Temos na 'segunda' execução do for a informação '12' para a variável 'valor'\r\n",
        "# Temos na 'terceira' execução do for a informação '6' para a variável 'valor'\r\n",
        "\r\n",
        "numeros = [10, 90, 40, 30, 20, 50]\r\n",
        "numeros_em_dobro = []\r\n",
        "\r\n",
        "for numero in numeros:\r\n",
        "  # print(\"Início do for:\", numero, numeros, numeros_em_dobro)\r\n",
        "  numeros_em_dobro.append(numero * 2)\r\n",
        "  print(\"Execução do for para o número:\", f\"{numero} * 2 = {numero * 2}\", numeros_em_dobro)\r\n",
        "  # print()\r\n",
        "\r\n",
        "print(numeros)\r\n",
        "print(numeros_em_dobro)"
      ],
      "execution_count": 6,
      "outputs": [
        {
          "output_type": "stream",
          "text": [
            "Execução do for para o número: 10 * 2 = 20 [20]\n",
            "Execução do for para o número: 90 * 2 = 180 [20, 180]\n",
            "Execução do for para o número: 40 * 2 = 80 [20, 180, 80]\n",
            "Execução do for para o número: 30 * 2 = 60 [20, 180, 80, 60]\n",
            "Execução do for para o número: 20 * 2 = 40 [20, 180, 80, 60, 40]\n",
            "Execução do for para o número: 50 * 2 = 100 [20, 180, 80, 60, 40, 100]\n",
            "[10, 90, 40, 30, 20, 50]\n",
            "[20, 180, 80, 60, 40, 100]\n"
          ],
          "name": "stdout"
        }
      ]
    },
    {
      "cell_type": "code",
      "metadata": {
        "colab": {
          "base_uri": "https://localhost:8080/"
        },
        "id": "bqF2LuqKmnCD",
        "outputId": "89988c6e-3e64-43e4-ec63-58282f812d00"
      },
      "source": [
        "# For indexado, em que temos acesso ao índice de cada valor\r\n",
        "\r\n",
        "for indice in range(10):\r\n",
        "  print(indice)"
      ],
      "execution_count": 7,
      "outputs": [
        {
          "output_type": "stream",
          "text": [
            "0\n",
            "1\n",
            "2\n",
            "3\n",
            "4\n",
            "5\n",
            "6\n",
            "7\n",
            "8\n",
            "9\n"
          ],
          "name": "stdout"
        }
      ]
    },
    {
      "cell_type": "code",
      "metadata": {
        "colab": {
          "base_uri": "https://localhost:8080/"
        },
        "id": "troDV0Xcm-ix",
        "outputId": "ce2b421d-a177-4929-956c-878042ca3deb"
      },
      "source": [
        "numeros = [9, 4, 3, 7, 5]\r\n",
        "# For indexado, em que temos acesso ao índice de cada valor\r\n",
        "\r\n",
        "for indice in range(len(numeros)):\r\n",
        "  numero = numeros[indice]\r\n",
        "  print(\"Índice\", indice, \"temos o valor\", numero)"
      ],
      "execution_count": 13,
      "outputs": [
        {
          "output_type": "stream",
          "text": [
            "Índice 0 temos o valor 9\n",
            "Índice 1 temos o valor 4\n",
            "Índice 2 temos o valor 3\n",
            "Índice 3 temos o valor 7\n",
            "Índice 4 temos o valor 5\n"
          ],
          "name": "stdout"
        }
      ]
    },
    {
      "cell_type": "code",
      "metadata": {
        "colab": {
          "base_uri": "https://localhost:8080/"
        },
        "id": "66A6n6tnn4ip",
        "outputId": "e62f7e9b-1579-447a-d6bc-9db2b75b693a"
      },
      "source": [
        "# Encerrando o for de maneira forçada com o break\r\n",
        "\r\n",
        "numeros = [9, 4, 3, 7, 5]\r\n",
        "# For indexado, em que temos acesso ao índice de cada valor\r\n",
        "\r\n",
        "for indice in range(len(numeros)):\r\n",
        "  numero = numeros[indice]\r\n",
        "  print(\"Índice\", indice, \"temos o valor\", numero)\r\n",
        "\r\n",
        "  if indice == 2:\r\n",
        "    break"
      ],
      "execution_count": 20,
      "outputs": [
        {
          "output_type": "stream",
          "text": [
            "Índice 0 temos o valor 9\n",
            "Índice 1 temos o valor 4\n",
            "Índice 2 temos o valor 3\n"
          ],
          "name": "stdout"
        }
      ]
    },
    {
      "cell_type": "code",
      "metadata": {
        "colab": {
          "base_uri": "https://localhost:8080/"
        },
        "id": "fRwfKtE3nTtL",
        "outputId": "12f14312-52c4-4a22-ed45-09d2215f91c7"
      },
      "source": [
        "numeros = [7, 3, 9]\r\n",
        "indice = 1\r\n",
        "print(numeros[indice])"
      ],
      "execution_count": 11,
      "outputs": [
        {
          "output_type": "stream",
          "text": [
            "3\n"
          ],
          "name": "stdout"
        }
      ]
    },
    {
      "cell_type": "code",
      "metadata": {
        "colab": {
          "base_uri": "https://localhost:8080/"
        },
        "id": "rv4uT0z9oeSY",
        "outputId": "204ae62f-d9bd-4d95-f798-1b431fed0666"
      },
      "source": [
        "# Introduzindo um pouco do enumerate, explicaremos a seguir...\r\n",
        "\r\n",
        "numeros = [9, 12, 4, 7, 3]\r\n",
        "\r\n",
        "enum = enumerate(numeros)\r\n",
        "lista = list(enum)\r\n",
        "\r\n",
        "print(lista)"
      ],
      "execution_count": 22,
      "outputs": [
        {
          "output_type": "stream",
          "text": [
            "[(0, 9), (1, 12), (2, 4), (3, 7), (4, 3)]\n"
          ],
          "name": "stdout"
        }
      ]
    },
    {
      "cell_type": "code",
      "metadata": {
        "colab": {
          "base_uri": "https://localhost:8080/"
        },
        "id": "CFP-PKoApTRg",
        "outputId": "af676548-d969-4ed0-dfaf-611ee77f4bdf"
      },
      "source": [
        "# Tuplas -> Parecem muito com as listas\r\n",
        "\r\n",
        "tupla = (1, 5, 9, 7, 6)\r\n",
        "\r\n",
        "print(tupla, type(tupla))"
      ],
      "execution_count": 23,
      "outputs": [
        {
          "output_type": "stream",
          "text": [
            "(1, 5, 9, 7, 6) <class 'tuple'>\n"
          ],
          "name": "stdout"
        }
      ]
    },
    {
      "cell_type": "code",
      "metadata": {
        "colab": {
          "base_uri": "https://localhost:8080/"
        },
        "id": "R-WtRC6Wpl9n",
        "outputId": "f0c25bf2-274d-4534-f1c7-4c9648e1d2e7"
      },
      "source": [
        "# Acessando elementos das tuplas\r\n",
        "\r\n",
        "numeros = (9, 7, 6, 3, 4, 65)\r\n",
        "\r\n",
        "primeiro_numero = numeros[0]\r\n",
        "\r\n",
        "print(primeiro_numero, type(primeiro_numero))"
      ],
      "execution_count": 25,
      "outputs": [
        {
          "output_type": "stream",
          "text": [
            "9 <class 'int'>\n"
          ],
          "name": "stdout"
        }
      ]
    },
    {
      "cell_type": "code",
      "metadata": {
        "colab": {
          "base_uri": "https://localhost:8080/"
        },
        "id": "F3DtzltPqDAE",
        "outputId": "9b2bbbdc-5c2a-4156-e22d-84945f75ba4e"
      },
      "source": [
        "numeros = 9, 7, 6, 3, 4, 65\r\n",
        "\r\n",
        "print(numeros)"
      ],
      "execution_count": 27,
      "outputs": [
        {
          "output_type": "stream",
          "text": [
            "(9, 7, 6, 3, 4, 65)\n"
          ],
          "name": "stdout"
        }
      ]
    },
    {
      "cell_type": "code",
      "metadata": {
        "colab": {
          "base_uri": "https://localhost:8080/"
        },
        "id": "WSTo7oVyqpNy",
        "outputId": "a1435069-0529-4437-fa3e-0e3528158110"
      },
      "source": [
        "numeros = 5,7\r\n",
        "\r\n",
        "print(numeros, type(numeros))"
      ],
      "execution_count": 28,
      "outputs": [
        {
          "output_type": "stream",
          "text": [
            "(5, 7) <class 'tuple'>\n"
          ],
          "name": "stdout"
        }
      ]
    },
    {
      "cell_type": "code",
      "metadata": {
        "colab": {
          "base_uri": "https://localhost:8080/"
        },
        "id": "w25-UCiVqta7",
        "outputId": "089c3f2e-93f3-4849-b681-3527c53ccce2"
      },
      "source": [
        "numeros = 5,\r\n",
        "print(numeros, type(numeros))"
      ],
      "execution_count": 30,
      "outputs": [
        {
          "output_type": "stream",
          "text": [
            "(5,) <class 'tuple'>\n"
          ],
          "name": "stdout"
        }
      ]
    },
    {
      "cell_type": "code",
      "metadata": {
        "colab": {
          "base_uri": "https://localhost:8080/"
        },
        "id": "qpPn-8bsq6NX",
        "outputId": "804ec514-63db-43c1-8103-843fa00870dd"
      },
      "source": [
        "tupla = (\"Paulo\", \"Salvatore\")\r\n",
        "\r\n",
        "print(tupla, type(tupla))\r\n",
        "\r\n",
        "nome = tupla[0]\r\n",
        "sobrenome = tupla[1]\r\n",
        "\r\n",
        "print(nome, type(nome))\r\n",
        "print(sobrenome, type(sobrenome))"
      ],
      "execution_count": 35,
      "outputs": [
        {
          "output_type": "stream",
          "text": [
            "('Paulo', 'Salvatore') <class 'tuple'>\n",
            "Paulo <class 'str'>\n",
            "Salvatore <class 'str'>\n"
          ],
          "name": "stdout"
        }
      ]
    },
    {
      "cell_type": "code",
      "metadata": {
        "colab": {
          "base_uri": "https://localhost:8080/"
        },
        "id": "0zYZAnVlrW7W",
        "outputId": "ff88bd07-1f88-4731-a88b-50fdf28ccbbb"
      },
      "source": [
        "# Desconstrução de tuplas\r\n",
        "\r\n",
        "nome, sobrenome = (\"Paulo\", \"Salvatore\")\r\n",
        "\r\n",
        "print(nome, type(nome))\r\n",
        "print(sobrenome, type(sobrenome))"
      ],
      "execution_count": 36,
      "outputs": [
        {
          "output_type": "stream",
          "text": [
            "Paulo <class 'str'>\n",
            "Salvatore <class 'str'>\n"
          ],
          "name": "stdout"
        }
      ]
    },
    {
      "cell_type": "code",
      "metadata": {
        "colab": {
          "base_uri": "https://localhost:8080/"
        },
        "id": "yDQnOkcErnTQ",
        "outputId": "dedb6a24-e327-4361-ad47-b296e7ea84e1"
      },
      "source": [
        "numeros = [30, 6, 1, 9, 6]\r\n",
        "\r\n",
        "enum = enumerate(numeros)\r\n",
        "\r\n",
        "lista = list(enum)\r\n",
        "\r\n",
        "# Transformo o enum em lista apenas para exibí-lo no print\r\n",
        "print(lista, type(lista))\r\n",
        "\r\n",
        "print(lista[0], type(lista[0]))\r\n",
        "\r\n",
        "indice, valor = lista[0]\r\n",
        "\r\n",
        "print(indice, valor, type(indice), type(valor))"
      ],
      "execution_count": 56,
      "outputs": [
        {
          "output_type": "stream",
          "text": [
            "[(0, 30), (1, 6), (2, 1), (3, 9), (4, 6)] <class 'list'>\n",
            "(0, 30) <class 'tuple'>\n",
            "0 30 <class 'int'> <class 'int'>\n"
          ],
          "name": "stdout"
        }
      ]
    },
    {
      "cell_type": "code",
      "metadata": {
        "colab": {
          "base_uri": "https://localhost:8080/"
        },
        "id": "FZJV4jcRsOtC",
        "outputId": "7ed4a233-aaf0-4817-e867-df18b910cfdf"
      },
      "source": [
        "numeros = [9, 6, 7, 9, 2, 4, 3]\r\n",
        "\r\n",
        "for indice, valor in enumerate(numeros):\r\n",
        "  print(indice, valor)"
      ],
      "execution_count": 42,
      "outputs": [
        {
          "output_type": "stream",
          "text": [
            "0 9\n",
            "1 6\n",
            "2 7\n",
            "3 9\n",
            "4 2\n",
            "5 4\n",
            "6 3\n"
          ],
          "name": "stdout"
        }
      ]
    },
    {
      "cell_type": "code",
      "metadata": {
        "colab": {
          "base_uri": "https://localhost:8080/"
        },
        "id": "IPcE6tFQsfu-",
        "outputId": "3608779f-29c7-46f8-a4c5-e0dcf0357ac2"
      },
      "source": [
        "tupla = (5, 6, 9, 7, 3)\r\n",
        "\r\n",
        "print(tupla, type(tupla))\r\n",
        "\r\n",
        "# Transforma qualquer coisa em lista (desde que seja um tipo suportado)\r\n",
        "lista = list(tupla)\r\n",
        "\r\n",
        "lista[0] = 9\r\n",
        "\r\n",
        "print(lista)\r\n",
        "\r\n",
        "tupla = tuple(lista)\r\n",
        "\r\n",
        "print(tupla)"
      ],
      "execution_count": 46,
      "outputs": [
        {
          "output_type": "stream",
          "text": [
            "(5, 6, 9, 7, 3) <class 'tuple'>\n",
            "[9, 6, 9, 7, 3]\n",
            "(9, 6, 9, 7, 3)\n"
          ],
          "name": "stdout"
        }
      ]
    },
    {
      "cell_type": "code",
      "metadata": {
        "colab": {
          "base_uri": "https://localhost:8080/"
        },
        "id": "V8GfYWcks3up",
        "outputId": "48cef3b1-4910-4b89-f4ba-e9ed27afd269"
      },
      "source": [
        "numeros = [9, 6, 7, 8]\r\n",
        "\r\n",
        "enum = enumerate(numeros)\r\n",
        "\r\n",
        "lista = list(enum)\r\n",
        "\r\n",
        "primeiro_item_enum = lista[0]\r\n",
        "\r\n",
        "print(lista)"
      ],
      "execution_count": 50,
      "outputs": [
        {
          "output_type": "stream",
          "text": [
            "[(0, 9), (1, 6), (2, 7), (3, 8)]\n"
          ],
          "name": "stdout"
        }
      ]
    },
    {
      "cell_type": "code",
      "metadata": {
        "colab": {
          "base_uri": "https://localhost:8080/"
        },
        "id": "CBSF033ktLSM",
        "outputId": "e969054f-64f6-4d68-a114-ea827f83c48d"
      },
      "source": [
        "numeros = [9, 6, 7, 9, 2, 4, 3]\r\n",
        "\r\n",
        "for indice, valor in enumerate(numeros):\r\n",
        "  print(indice, valor)"
      ],
      "execution_count": 54,
      "outputs": [
        {
          "output_type": "stream",
          "text": [
            "0 9\n",
            "1 6\n",
            "2 7\n",
            "3 9\n",
            "4 2\n",
            "5 4\n",
            "6 3\n"
          ],
          "name": "stdout"
        }
      ]
    },
    {
      "cell_type": "code",
      "metadata": {
        "colab": {
          "base_uri": "https://localhost:8080/"
        },
        "id": "k2I5i5RuuTVM",
        "outputId": "d5aaa2f1-753f-46dd-ce62-222431dfa749"
      },
      "source": [
        "tupla = 5, 6, 7, 6, 1, 9, 5, 2, 7, 3, 6\r\n",
        "\r\n",
        "print(sum(tupla))"
      ],
      "execution_count": 57,
      "outputs": [
        {
          "output_type": "stream",
          "text": [
            "57\n"
          ],
          "name": "stdout"
        }
      ]
    },
    {
      "cell_type": "code",
      "metadata": {
        "colab": {
          "base_uri": "https://localhost:8080/"
        },
        "id": "8zTuiojiu72v",
        "outputId": "e6ce82aa-f87c-438f-deab-4418b0567919"
      },
      "source": [
        "\"\"\"\r\n",
        "From Rafael Bianco to Everyone:  04:17 PM\r\n",
        "professor se a lista for em string, como fazermos para clássicas em ordem alfabética?\r\n",
        "\"\"\"\r\n",
        "\r\n",
        "nomes = [\"Rafael\", \"Paulo\", \"Marina\", \"Mariana\", \"Gabriel\", \"Juliano\"]\r\n",
        "\r\n",
        "nomes.sort(reverse=True)\r\n",
        "\r\n",
        "print(nomes)"
      ],
      "execution_count": 60,
      "outputs": [
        {
          "output_type": "stream",
          "text": [
            "['Rafael', 'Paulo', 'Marina', 'Mariana', 'Juliano', 'Gabriel']\n"
          ],
          "name": "stdout"
        }
      ]
    },
    {
      "cell_type": "code",
      "metadata": {
        "colab": {
          "base_uri": "https://localhost:8080/"
        },
        "id": "P3XIcEtavIw4",
        "outputId": "4ed82143-5238-4699-d28e-69b430ae6d7f"
      },
      "source": [
        "\"\"\"\r\n",
        "From Andrea Davi Carrer to Everyone:  04:01 PM\r\n",
        "e se eu quiser que ele incremente de 2 em 2?\r\n",
        "\"\"\"\r\n",
        "\r\n",
        "numeros = [10, 9, 6, 4, 7, 6, 6, 4, 1, 3, 9]\r\n",
        "\r\n",
        "for indice in range(0, len(numeros), 2):\r\n",
        "  print(indice)"
      ],
      "execution_count": 64,
      "outputs": [
        {
          "output_type": "stream",
          "text": [
            "0\n",
            "2\n",
            "4\n",
            "6\n",
            "8\n",
            "10\n"
          ],
          "name": "stdout"
        }
      ]
    },
    {
      "cell_type": "code",
      "metadata": {
        "colab": {
          "base_uri": "https://localhost:8080/"
        },
        "id": "jXnfTlVBvY3s",
        "outputId": "c221fc9b-5460-4726-f083-41ae8d54ba53"
      },
      "source": [
        "\"\"\"\r\n",
        "From Guilherme Alarsa to Everyone:  03:47 PM\r\n",
        "e uma lista que tivesse um input pro usuário colocar os valores?\r\n",
        "\"\"\"\r\n",
        "\r\n",
        "numeros = []\r\n",
        "\r\n",
        "print(\"Digite 3 números...\")\r\n",
        "\r\n",
        "for indice in range(3):\r\n",
        "  numero = int(input(\"Digite um número: \"))\r\n",
        "  numeros.append(numero)\r\n",
        "\r\n",
        "print(\"Os números digitados foram:\", numeros)"
      ],
      "execution_count": 65,
      "outputs": [
        {
          "output_type": "stream",
          "text": [
            "Digite 3 números...\n",
            "Digite um número: 9\n",
            "Digite um número: 5\n",
            "Digite um número: 1\n",
            "Os números digitados foram: [9, 5, 1]\n"
          ],
          "name": "stdout"
        }
      ]
    },
    {
      "cell_type": "code",
      "metadata": {
        "colab": {
          "base_uri": "https://localhost:8080/"
        },
        "id": "q9QATu6vu3bZ",
        "outputId": "19bcfc76-0530-4a0c-f170-19225b045b18"
      },
      "source": [
        "# Dicionários\r\n",
        "# Quase iguais as listas\r\n",
        "# A única diferença é que podemos/devemos definir os índices\r\n",
        "\r\n",
        "# Enquanto a lista atribui índices sequenciais de maneira automática,\r\n",
        "# os dicionários precisam desse índice definido\r\n",
        "\r\n",
        "dicionario = {\"nome\": \"Paulo\", \"sobrenome\": \"Salvatore\"}\r\n",
        "\r\n",
        "print(dicionario, type(dicionario))\r\n",
        "\r\n",
        "nome = dicionario[\"nome\"]\r\n",
        "print(nome, type(nome))\r\n",
        "\r\n",
        "sobrenome = dicionario[\"sobrenome\"]\r\n",
        "print(sobrenome, type(sobrenome))"
      ],
      "execution_count": 73,
      "outputs": [
        {
          "output_type": "stream",
          "text": [
            "{'nome': 'Paulo', 'sobrenome': 'Salvatore'} <class 'dict'>\n",
            "Paulo <class 'str'>\n",
            "Salvatore <class 'str'>\n"
          ],
          "name": "stdout"
        }
      ]
    },
    {
      "cell_type": "code",
      "metadata": {
        "colab": {
          "base_uri": "https://localhost:8080/"
        },
        "id": "rOIVbEIzxDbi",
        "outputId": "94605982-ef71-48c9-8fc1-ac7b4bc978dd"
      },
      "source": [
        "paulo = {\r\n",
        "    \"nome\": \"Paulo\",\r\n",
        "    \"sobrenome\": \"Salvatore\",\r\n",
        "}\r\n",
        "\r\n",
        "caio = {\r\n",
        "    \"nome\": \"Caio\",\r\n",
        "    \"sobrenome\": \"Felintro\",\r\n",
        "}\r\n",
        "\r\n",
        "renato = {\r\n",
        "    \"nome\": \"Renato\",\r\n",
        "    \"sobrenome\": \"Fonseca\",\r\n",
        "}\r\n",
        "\r\n",
        "pessoas = [paulo, caio, renato]\r\n",
        "\r\n",
        "for pessoa in pessoas:\r\n",
        "  nome = pessoa[\"nome\"]\r\n",
        "  sobrenome = pessoa[\"sobrenome\"]\r\n",
        "\r\n",
        "  print(nome, sobrenome)\r\n",
        "\r\n",
        "# print(paulo[\"nome\"], paulo[\"sobrenome\"])\r\n",
        "# print(caio[\"nome\"], caio[\"sobrenome\"])"
      ],
      "execution_count": 76,
      "outputs": [
        {
          "output_type": "stream",
          "text": [
            "Paulo Salvatore\n",
            "Caio Felintro\n",
            "Renato Fonseca\n"
          ],
          "name": "stdout"
        }
      ]
    },
    {
      "cell_type": "markdown",
      "metadata": {
        "id": "Y1sxIsh0yX_D"
      },
      "source": [
        "## Exercícios para praticar\r\n",
        "\r\n",
        "https://github.com/paulosalvatore/ExerciciosPython/blob/master/exercicios/exercicio14.py\r\n",
        "\r\n",
        "https://github.com/paulosalvatore/ExerciciosPython/blob/master/exercicios/exercicio16.py\r\n",
        "\r\n",
        "https://github.com/paulosalvatore/ExerciciosPython/blob/master/exercicios/exercicio19.py\r\n",
        "\r\n",
        "https://github.com/paulosalvatore/ExerciciosPython/blob/master/exercicios/exercicio23.py\r\n",
        "\r\n",
        "https://github.com/paulosalvatore/ExerciciosPython/blob/master/exercicios/exercicio25.py\r\n",
        "\r\n",
        "## Exercício bem completo\r\n",
        "\r\n",
        "https://github.com/paulosalvatore/ExerciciosPython/blob/master/exercicios/exercicio15.py\r\n",
        "\r\n",
        "## Exercício boss\r\n",
        "\r\n",
        "https://github.com/paulosalvatore/ExerciciosPython/blob/master/exercicios/exercicio26.py\r\n"
      ]
    }
  ]
}