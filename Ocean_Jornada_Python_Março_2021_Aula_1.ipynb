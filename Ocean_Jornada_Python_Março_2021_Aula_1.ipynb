{
  "nbformat": 4,
  "nbformat_minor": 0,
  "metadata": {
    "colab": {
      "name": "Ocean_JornadaPython_Intro_03_2021.ipynb",
      "provenance": [],
      "collapsed_sections": [],
      "authorship_tag": "ABX9TyOLze0AkVJ7z+gGZkwG2kTI",
      "include_colab_link": true
    },
    "kernelspec": {
      "name": "python3",
      "display_name": "Python 3"
    }
  },
  "cells": [
    {
      "cell_type": "markdown",
      "metadata": {
        "id": "view-in-github",
        "colab_type": "text"
      },
      "source": [
        "<a href=\"https://colab.research.google.com/github/paulosalvatore/Ocean_JornadaPython_Intro_03_2021/blob/main/Ocean_JornadaPython_Intro_03_2021.ipynb\" target=\"_parent\"><img src=\"https://colab.research.google.com/assets/colab-badge.svg\" alt=\"Open In Colab\"/></a>"
      ]
    },
    {
      "cell_type": "code",
      "metadata": {
        "colab": {
          "base_uri": "https://localhost:8080/"
        },
        "id": "AnlbeQkG-8O6",
        "outputId": "1959796c-beca-41dc-8a66-beb61a05c6a9"
      },
      "source": [
        "print(\"Olá, mundo!\")"
      ],
      "execution_count": null,
      "outputs": [
        {
          "output_type": "stream",
          "text": [
            "Olá, mundo!\n"
          ],
          "name": "stdout"
        }
      ]
    },
    {
      "cell_type": "code",
      "metadata": {
        "id": "YUcFj2lq_36k"
      },
      "source": [
        "nome = \"Paulo Salvatore\""
      ],
      "execution_count": null,
      "outputs": []
    },
    {
      "cell_type": "code",
      "metadata": {
        "colab": {
          "base_uri": "https://localhost:8080/"
        },
        "id": "GxiCvG_qAYH_",
        "outputId": "b3f6e98a-cee0-4a27-ae69-4c1b26008779"
      },
      "source": [
        "print(nome)"
      ],
      "execution_count": null,
      "outputs": [
        {
          "output_type": "stream",
          "text": [
            "Salvatore\n"
          ],
          "name": "stdout"
        }
      ]
    },
    {
      "cell_type": "code",
      "metadata": {
        "colab": {
          "base_uri": "https://localhost:8080/"
        },
        "id": "MSsbm1meBCrw",
        "outputId": "0462406d-5b15-478b-a1dc-ac24a831782c"
      },
      "source": [
        "nome = \"Paulo\"\r\n",
        "sobrenome = \"Sobrenome\"\r\n",
        "\r\n",
        "print(nome)\r\n",
        "print(sobrenome)"
      ],
      "execution_count": null,
      "outputs": [
        {
          "output_type": "stream",
          "text": [
            "Paulo\n",
            "Sobrenome\n"
          ],
          "name": "stdout"
        }
      ]
    },
    {
      "cell_type": "code",
      "metadata": {
        "colab": {
          "base_uri": "https://localhost:8080/"
        },
        "id": "MWGa4o7BB9iM",
        "outputId": "c0efd0df-debc-46f3-b2b9-292ddc72cada"
      },
      "source": [
        "# Declara essa informação e guarda na memória\r\n",
        "numero = 5\r\n",
        "\r\n",
        "# Depois, acessamos essa informação e fazemos algo com ela\r\n",
        "# No caso, usamos o print() para exibí-la no console\r\n",
        "print(numero)"
      ],
      "execution_count": null,
      "outputs": [
        {
          "output_type": "stream",
          "text": [
            "5\n"
          ],
          "name": "stdout"
        }
      ]
    },
    {
      "cell_type": "code",
      "metadata": {
        "colab": {
          "base_uri": "https://localhost:8080/"
        },
        "id": "CJzj8OD1CrUc",
        "outputId": "6b782ae5-3473-43e7-8d0f-9852b931ea51"
      },
      "source": [
        "numero = numero + 5\r\n",
        "\r\n",
        "print(numero)"
      ],
      "execution_count": null,
      "outputs": [
        {
          "output_type": "stream",
          "text": [
            "30\n"
          ],
          "name": "stdout"
        }
      ]
    },
    {
      "cell_type": "code",
      "metadata": {
        "colab": {
          "base_uri": "https://localhost:8080/"
        },
        "id": "qWpDbuKgC8tS",
        "outputId": "a7df105f-c97c-4bf0-ab06-fa460146c568"
      },
      "source": [
        "print(numero + 5)"
      ],
      "execution_count": null,
      "outputs": [
        {
          "output_type": "stream",
          "text": [
            "35\n"
          ],
          "name": "stdout"
        }
      ]
    },
    {
      "cell_type": "code",
      "metadata": {
        "id": "qSe_G_7FDfe9"
      },
      "source": [
        "# Comentários!\r\n",
        "\r\n",
        "# Pode ser uma informação que vai me ajudar a entender o que estou escrevendo\r\n",
        "\r\n",
        "# Mais\r\n",
        "# de\r\n",
        "# uma\r\n",
        "# linha\r\n",
        "\r\n",
        "\"\"\"\r\n",
        "Comentário\r\n",
        "com\r\n",
        "várias\r\n",
        "linhas\r\n",
        "\"\"\"\r\n",
        "\r\n",
        "'''\r\n",
        "Comentário\r\n",
        "com\r\n",
        "várias\r\n",
        "linhas\r\n",
        "'''"
      ],
      "execution_count": null,
      "outputs": []
    },
    {
      "cell_type": "code",
      "metadata": {
        "colab": {
          "base_uri": "https://localhost:8080/"
        },
        "id": "ZlH0yPzoD5u6",
        "outputId": "72147f3e-b2ce-45b2-9906-09a9a988a649"
      },
      "source": [
        "numero = 5 # Número inteiro: int\r\n",
        "numero_decimal = 5.5 # Número decimal: float\r\n",
        "texto = \"Paulo\" # Texto: string\r\n",
        "maior_idade = True # Booleano: bool\r\n",
        "\r\n",
        "print(numero, type(numero))\r\n",
        "print(numero_decimal, type(numero_decimal))\r\n",
        "print(texto, type(texto))\r\n",
        "print(maior_idade, type(maior_idade))"
      ],
      "execution_count": null,
      "outputs": [
        {
          "output_type": "stream",
          "text": [
            "5 <class 'int'>\n",
            "5.5 <class 'float'>\n",
            "Paulo <class 'str'>\n",
            "True <class 'bool'>\n"
          ],
          "name": "stdout"
        }
      ]
    },
    {
      "cell_type": "code",
      "metadata": {
        "id": "ZvFwuGsrE_Li"
      },
      "source": [
        "\"\"\"\r\n",
        "tipo_numero = type(numero)\r\n",
        "print(tipo_numero)\r\n",
        "\r\n",
        "print(type(numero))\r\n",
        "\r\n",
        "print(5, 10, \"Texto\")\r\n",
        "\"\"\""
      ],
      "execution_count": null,
      "outputs": []
    },
    {
      "cell_type": "code",
      "metadata": {
        "colab": {
          "base_uri": "https://localhost:8080/"
        },
        "id": "dk7LxJwMFcjj",
        "outputId": "29cb0122-375e-4826-886e-d4a2f404b530"
      },
      "source": [
        "numero = 5.5\r\n",
        "\r\n",
        "print(type(numero))\r\n",
        "\r\n",
        "numero = 5\r\n",
        "\r\n",
        "print(type(numero))\r\n",
        "\r\n",
        "numero = \"Paulo\"\r\n",
        "\r\n",
        "print(type(numero))"
      ],
      "execution_count": null,
      "outputs": [
        {
          "output_type": "stream",
          "text": [
            "<class 'float'>\n",
            "<class 'int'>\n",
            "<class 'str'>\n"
          ],
          "name": "stdout"
        }
      ]
    },
    {
      "cell_type": "code",
      "metadata": {
        "colab": {
          "base_uri": "https://localhost:8080/"
        },
        "id": "MGTI2xx5GnYf",
        "outputId": "9d0dca0e-86bf-41f0-f8c0-5cef04d39085"
      },
      "source": [
        "print(5 + 5)\r\n",
        "\r\n",
        "print(\"Paulo\" + \"Salvatore\")\r\n",
        "\r\n",
        "print(\"1\" + \"5\")"
      ],
      "execution_count": null,
      "outputs": [
        {
          "output_type": "stream",
          "text": [
            "10\n",
            "PauloSalvatore\n",
            "15\n"
          ],
          "name": "stdout"
        }
      ]
    },
    {
      "cell_type": "markdown",
      "metadata": {
        "id": "-EGyetcZaiOE"
      },
      "source": [
        "# Exercício 1 - \"E os 10% do garçom?\"\r\n",
        "\r\n",
        "- Defina uma variável para o valor de uma refeição que custou `R$ 42,54`;\r\n",
        "- Defina uma variável para o valor da taxa de serviço que é de `10%`;\r\n",
        "- Defina uma variável que calcula o valor total da conta e exiba-o no console (sem formatação, por enquanto, apenas o valor do resultado)."
      ]
    },
    {
      "cell_type": "code",
      "metadata": {
        "colab": {
          "base_uri": "https://localhost:8080/"
        },
        "id": "q6xmSYN_agAJ",
        "outputId": "1748c017-3c1c-4304-c5e0-9122a1b07432"
      },
      "source": [
        "valor_refeicao = float(input(\"Digite o valor da refeição: \"))\r\n",
        "servico = 10 / 100 * valor_refeicao\r\n",
        "total = valor_refeicao + servico\r\n",
        "print(f\"O valor da refeição: mais o serviço é R$ {total:.2f}.\")"
      ],
      "execution_count": 61,
      "outputs": [
        {
          "output_type": "stream",
          "text": [
            "Digite o valor da refeição: 42.654\n",
            "O valor da refeição: mais o serviço é R$ 46.92.\n"
          ],
          "name": "stdout"
        }
      ]
    },
    {
      "cell_type": "code",
      "metadata": {
        "colab": {
          "base_uri": "https://localhost:8080/"
        },
        "id": "_FSdCbGkbVw7",
        "outputId": "67e69bbe-aedd-48e0-bf55-c227157ed4f5"
      },
      "source": [
        "# Indentação e formatação dos blocos\r\n",
        "\r\n",
        "if True:\r\n",
        "    print(\"Esse print será lido\")\r\n",
        "\r\n",
        "\r\n",
        "if False:\r\n",
        "\tprint(\"Esse print não será lido\")\r\n",
        "\tprint(\"Esse print não será lido\")\r\n",
        "\r\n",
        "\r\n",
        "print(\"Esse print será lido\")\r\n",
        "\r\n",
        "\r\n",
        "print(1)"
      ],
      "execution_count": 70,
      "outputs": [
        {
          "output_type": "stream",
          "text": [
            "Esse print será lido\n",
            "Esse print será lido\n",
            "1\n"
          ],
          "name": "stdout"
        }
      ]
    },
    {
      "cell_type": "code",
      "metadata": {
        "colab": {
          "base_uri": "https://localhost:8080/"
        },
        "id": "zSWD6KmgckS5",
        "outputId": "36b082a5-9298-48e0-9e52-35a7ea3b6497"
      },
      "source": [
        "def exibir_dados(dado):\r\n",
        "  print(dado)\r\n",
        "  print(5)\r\n",
        "  print(\"Dentro do def\")\r\n",
        "\r\n",
        "print(\"Fora do def\")\r\n",
        "\r\n",
        "exibir_dados(\"dado no final do código\")"
      ],
      "execution_count": 71,
      "outputs": [
        {
          "output_type": "stream",
          "text": [
            "Fora do def\n",
            "dado no final do código\n",
            "5\n",
            "Dentro do def\n"
          ],
          "name": "stdout"
        }
      ]
    },
    {
      "cell_type": "code",
      "metadata": {
        "id": "P2WOSbtIdNad"
      },
      "source": [
        ""
      ],
      "execution_count": null,
      "outputs": []
    },
    {
      "cell_type": "markdown",
      "metadata": {
        "id": "Tvnp2cAPdPLL"
      },
      "source": [
        "## Exercício 2 - Input de Informações\r\n",
        "\r\n",
        "Objetivo: Receber dados do usuário, trabalhar com os valores e exibir para o usuário.\r\n",
        "\r\n",
        "Dificuldade: Principiante\r\n",
        "\r\n",
        "1 - Crie um programa que receba do usuário seu nome, idade e gênero;\r\n",
        "\r\n",
        "2 - Exiba na tela seguinte mensagem: \"Olá, {nome}, você possui {idade} anos de idade e é do gênero {genero}.\";\r\n",
        "\r\n",
        "3 - Exiba também: \"Já pensou no que você fará no seu aniversário de {idade + 1} anos?\".\r\n",
        "\r\n",
        "Adicionando uma pimentinha extra: \"Se o usuário digitar idade 1, exiba apenas \"ano\" em vez de \"anos\".\r\n",
        "\"\"\""
      ]
    },
    {
      "cell_type": "code",
      "metadata": {
        "id": "Htq5ZYz9dV96"
      },
      "source": [
        ""
      ],
      "execution_count": null,
      "outputs": []
    }
  ]
}